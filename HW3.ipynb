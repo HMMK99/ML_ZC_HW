{
 "cells": [
  {
   "cell_type": "code",
   "execution_count": 38,
   "metadata": {},
   "outputs": [],
   "source": [
    "import pandas as pd\n",
    "import numpy as np\n",
    "\n",
    "import seaborn as sns\n",
    "from sklearn.model_selection import train_test_split\n",
    "from matplotlib import pyplot as plt\n",
    "%matplotlib inline"
   ]
  },
  {
   "cell_type": "code",
   "execution_count": 2,
   "metadata": {},
   "outputs": [
    {
     "data": {
      "text/html": [
       "<div>\n",
       "<style scoped>\n",
       "    .dataframe tbody tr th:only-of-type {\n",
       "        vertical-align: middle;\n",
       "    }\n",
       "\n",
       "    .dataframe tbody tr th {\n",
       "        vertical-align: top;\n",
       "    }\n",
       "\n",
       "    .dataframe thead th {\n",
       "        text-align: right;\n",
       "    }\n",
       "</style>\n",
       "<table border=\"1\" class=\"dataframe\">\n",
       "  <thead>\n",
       "    <tr style=\"text-align: right;\">\n",
       "      <th></th>\n",
       "      <th>Make</th>\n",
       "      <th>Model</th>\n",
       "      <th>Year</th>\n",
       "      <th>Engine Fuel Type</th>\n",
       "      <th>Engine HP</th>\n",
       "      <th>Engine Cylinders</th>\n",
       "      <th>Transmission Type</th>\n",
       "      <th>Driven_Wheels</th>\n",
       "      <th>Number of Doors</th>\n",
       "      <th>Market Category</th>\n",
       "      <th>Vehicle Size</th>\n",
       "      <th>Vehicle Style</th>\n",
       "      <th>highway MPG</th>\n",
       "      <th>city mpg</th>\n",
       "      <th>Popularity</th>\n",
       "      <th>MSRP</th>\n",
       "    </tr>\n",
       "  </thead>\n",
       "  <tbody>\n",
       "    <tr>\n",
       "      <th>0</th>\n",
       "      <td>BMW</td>\n",
       "      <td>1 Series M</td>\n",
       "      <td>2011</td>\n",
       "      <td>premium unleaded (required)</td>\n",
       "      <td>335.0</td>\n",
       "      <td>6.0</td>\n",
       "      <td>MANUAL</td>\n",
       "      <td>rear wheel drive</td>\n",
       "      <td>2.0</td>\n",
       "      <td>Factory Tuner,Luxury,High-Performance</td>\n",
       "      <td>Compact</td>\n",
       "      <td>Coupe</td>\n",
       "      <td>26</td>\n",
       "      <td>19</td>\n",
       "      <td>3916</td>\n",
       "      <td>46135</td>\n",
       "    </tr>\n",
       "    <tr>\n",
       "      <th>1</th>\n",
       "      <td>BMW</td>\n",
       "      <td>1 Series</td>\n",
       "      <td>2011</td>\n",
       "      <td>premium unleaded (required)</td>\n",
       "      <td>300.0</td>\n",
       "      <td>6.0</td>\n",
       "      <td>MANUAL</td>\n",
       "      <td>rear wheel drive</td>\n",
       "      <td>2.0</td>\n",
       "      <td>Luxury,Performance</td>\n",
       "      <td>Compact</td>\n",
       "      <td>Convertible</td>\n",
       "      <td>28</td>\n",
       "      <td>19</td>\n",
       "      <td>3916</td>\n",
       "      <td>40650</td>\n",
       "    </tr>\n",
       "    <tr>\n",
       "      <th>2</th>\n",
       "      <td>BMW</td>\n",
       "      <td>1 Series</td>\n",
       "      <td>2011</td>\n",
       "      <td>premium unleaded (required)</td>\n",
       "      <td>300.0</td>\n",
       "      <td>6.0</td>\n",
       "      <td>MANUAL</td>\n",
       "      <td>rear wheel drive</td>\n",
       "      <td>2.0</td>\n",
       "      <td>Luxury,High-Performance</td>\n",
       "      <td>Compact</td>\n",
       "      <td>Coupe</td>\n",
       "      <td>28</td>\n",
       "      <td>20</td>\n",
       "      <td>3916</td>\n",
       "      <td>36350</td>\n",
       "    </tr>\n",
       "    <tr>\n",
       "      <th>3</th>\n",
       "      <td>BMW</td>\n",
       "      <td>1 Series</td>\n",
       "      <td>2011</td>\n",
       "      <td>premium unleaded (required)</td>\n",
       "      <td>230.0</td>\n",
       "      <td>6.0</td>\n",
       "      <td>MANUAL</td>\n",
       "      <td>rear wheel drive</td>\n",
       "      <td>2.0</td>\n",
       "      <td>Luxury,Performance</td>\n",
       "      <td>Compact</td>\n",
       "      <td>Coupe</td>\n",
       "      <td>28</td>\n",
       "      <td>18</td>\n",
       "      <td>3916</td>\n",
       "      <td>29450</td>\n",
       "    </tr>\n",
       "    <tr>\n",
       "      <th>4</th>\n",
       "      <td>BMW</td>\n",
       "      <td>1 Series</td>\n",
       "      <td>2011</td>\n",
       "      <td>premium unleaded (required)</td>\n",
       "      <td>230.0</td>\n",
       "      <td>6.0</td>\n",
       "      <td>MANUAL</td>\n",
       "      <td>rear wheel drive</td>\n",
       "      <td>2.0</td>\n",
       "      <td>Luxury</td>\n",
       "      <td>Compact</td>\n",
       "      <td>Convertible</td>\n",
       "      <td>28</td>\n",
       "      <td>18</td>\n",
       "      <td>3916</td>\n",
       "      <td>34500</td>\n",
       "    </tr>\n",
       "  </tbody>\n",
       "</table>\n",
       "</div>"
      ],
      "text/plain": [
       "  Make       Model  Year             Engine Fuel Type  Engine HP  \\\n",
       "0  BMW  1 Series M  2011  premium unleaded (required)      335.0   \n",
       "1  BMW    1 Series  2011  premium unleaded (required)      300.0   \n",
       "2  BMW    1 Series  2011  premium unleaded (required)      300.0   \n",
       "3  BMW    1 Series  2011  premium unleaded (required)      230.0   \n",
       "4  BMW    1 Series  2011  premium unleaded (required)      230.0   \n",
       "\n",
       "   Engine Cylinders Transmission Type     Driven_Wheels  Number of Doors  \\\n",
       "0               6.0            MANUAL  rear wheel drive              2.0   \n",
       "1               6.0            MANUAL  rear wheel drive              2.0   \n",
       "2               6.0            MANUAL  rear wheel drive              2.0   \n",
       "3               6.0            MANUAL  rear wheel drive              2.0   \n",
       "4               6.0            MANUAL  rear wheel drive              2.0   \n",
       "\n",
       "                         Market Category Vehicle Size Vehicle Style  \\\n",
       "0  Factory Tuner,Luxury,High-Performance      Compact         Coupe   \n",
       "1                     Luxury,Performance      Compact   Convertible   \n",
       "2                Luxury,High-Performance      Compact         Coupe   \n",
       "3                     Luxury,Performance      Compact         Coupe   \n",
       "4                                 Luxury      Compact   Convertible   \n",
       "\n",
       "   highway MPG  city mpg  Popularity   MSRP  \n",
       "0           26        19        3916  46135  \n",
       "1           28        19        3916  40650  \n",
       "2           28        20        3916  36350  \n",
       "3           28        18        3916  29450  \n",
       "4           28        18        3916  34500  "
      ]
     },
     "execution_count": 2,
     "metadata": {},
     "output_type": "execute_result"
    }
   ],
   "source": [
    "df = pd.read_csv('https://raw.githubusercontent.com/alexeygrigorev/mlbookcamp-code/master/chapter-02-car-price/data.csv')\n",
    "df.head()"
   ]
  },
  {
   "cell_type": "code",
   "execution_count": 4,
   "metadata": {},
   "outputs": [],
   "source": [
    "df = df[['Make', 'Model', 'Year', 'Engine HP', 'Engine Cylinders', 'Transmission Type', 'Vehicle Style', 'highway MPG', 'city mpg', 'MSRP']]"
   ]
  },
  {
   "cell_type": "code",
   "execution_count": 6,
   "metadata": {},
   "outputs": [
    {
     "data": {
      "text/plain": [
       "Index(['make', 'model', 'year', 'engine_hp', 'engine_cylinders',\n",
       "       'transmission_type', 'vehicle_style', 'highway_mpg', 'city_mpg',\n",
       "       'msrp'],\n",
       "      dtype='object')"
      ]
     },
     "execution_count": 6,
     "metadata": {},
     "output_type": "execute_result"
    }
   ],
   "source": [
    "df.columns = df.columns.str.replace(' ', '_').str.lower()\n",
    "df.columns"
   ]
  },
  {
   "cell_type": "code",
   "execution_count": 10,
   "metadata": {},
   "outputs": [
    {
     "data": {
      "text/plain": [
       "Index(['make', 'model', 'year', 'engine_hp', 'engine_cylinders',\n",
       "       'transmission_type', 'vehicle_style', 'highway_mpg', 'city_mpg',\n",
       "       'price'],\n",
       "      dtype='object')"
      ]
     },
     "execution_count": 10,
     "metadata": {},
     "output_type": "execute_result"
    }
   ],
   "source": [
    "df.columns = df.columns.str.replace('msrp', 'price').str.lower()\n",
    "df.columns"
   ]
  },
  {
   "cell_type": "code",
   "execution_count": 13,
   "metadata": {},
   "outputs": [
    {
     "name": "stdout",
     "output_type": "stream",
     "text": [
      "<class 'pandas.core.frame.DataFrame'>\n",
      "RangeIndex: 11914 entries, 0 to 11913\n",
      "Data columns (total 10 columns):\n",
      " #   Column             Non-Null Count  Dtype  \n",
      "---  ------             --------------  -----  \n",
      " 0   make               11914 non-null  object \n",
      " 1   model              11914 non-null  object \n",
      " 2   year               11914 non-null  int64  \n",
      " 3   engine_hp          11845 non-null  float64\n",
      " 4   engine_cylinders   11884 non-null  float64\n",
      " 5   transmission_type  11914 non-null  object \n",
      " 6   vehicle_style      11914 non-null  object \n",
      " 7   highway_mpg        11914 non-null  int64  \n",
      " 8   city_mpg           11914 non-null  int64  \n",
      " 9   price              11914 non-null  int64  \n",
      "dtypes: float64(2), int64(4), object(4)\n",
      "memory usage: 930.9+ KB\n"
     ]
    }
   ],
   "source": [
    "df.info()"
   ]
  },
  {
   "cell_type": "code",
   "execution_count": 17,
   "metadata": {},
   "outputs": [],
   "source": [
    "numeric = ['year', 'engine_hp', 'engine_cylinders', 'highway_mpg', 'city_mpg', 'price']\n",
    "categorical = ['make', 'model', 'transmission_type', 'vehicle_style']"
   ]
  },
  {
   "cell_type": "code",
   "execution_count": 11,
   "metadata": {},
   "outputs": [
    {
     "data": {
      "text/plain": [
       "make                  0\n",
       "model                 0\n",
       "year                  0\n",
       "engine_hp            69\n",
       "engine_cylinders     30\n",
       "transmission_type     0\n",
       "vehicle_style         0\n",
       "highway_mpg           0\n",
       "city_mpg              0\n",
       "price                 0\n",
       "dtype: int64"
      ]
     },
     "execution_count": 11,
     "metadata": {},
     "output_type": "execute_result"
    }
   ],
   "source": [
    "df.isna().sum()"
   ]
  },
  {
   "cell_type": "code",
   "execution_count": 14,
   "metadata": {},
   "outputs": [
    {
     "name": "stderr",
     "output_type": "stream",
     "text": [
      "C:\\Users\\hatem.kamal\\AppData\\Local\\Temp\\ipykernel_29760\\2286897534.py:1: SettingWithCopyWarning: \n",
      "A value is trying to be set on a copy of a slice from a DataFrame\n",
      "\n",
      "See the caveats in the documentation: https://pandas.pydata.org/pandas-docs/stable/user_guide/indexing.html#returning-a-view-versus-a-copy\n",
      "  df.engine_hp.fillna(0,inplace=True)\n",
      "C:\\Users\\hatem.kamal\\AppData\\Local\\Temp\\ipykernel_29760\\2286897534.py:2: SettingWithCopyWarning: \n",
      "A value is trying to be set on a copy of a slice from a DataFrame\n",
      "\n",
      "See the caveats in the documentation: https://pandas.pydata.org/pandas-docs/stable/user_guide/indexing.html#returning-a-view-versus-a-copy\n",
      "  df.engine_cylinders.fillna(0,inplace=True)\n"
     ]
    },
    {
     "data": {
      "text/plain": [
       "make                 0\n",
       "model                0\n",
       "year                 0\n",
       "engine_hp            0\n",
       "engine_cylinders     0\n",
       "transmission_type    0\n",
       "vehicle_style        0\n",
       "highway_mpg          0\n",
       "city_mpg             0\n",
       "price                0\n",
       "dtype: int64"
      ]
     },
     "execution_count": 14,
     "metadata": {},
     "output_type": "execute_result"
    }
   ],
   "source": [
    "df.engine_hp.fillna(0,inplace=True)\n",
    "df.engine_cylinders.fillna(0,inplace=True)\n",
    "df.isna().sum()"
   ]
  },
  {
   "cell_type": "code",
   "execution_count": 16,
   "metadata": {},
   "outputs": [
    {
     "data": {
      "text/plain": [
       "transmission_type\n",
       "AUTOMATIC           8266\n",
       "MANUAL              2935\n",
       "AUTOMATED_MANUAL     626\n",
       "DIRECT_DRIVE          68\n",
       "UNKNOWN               19\n",
       "Name: count, dtype: int64"
      ]
     },
     "execution_count": 16,
     "metadata": {},
     "output_type": "execute_result"
    }
   ],
   "source": [
    "df.transmission_type.value_counts()"
   ]
  },
  {
   "cell_type": "code",
   "execution_count": 29,
   "metadata": {},
   "outputs": [
    {
     "data": {
      "text/html": [
       "<style type=\"text/css\">\n",
       "#T_cd34b_row0_col0, #T_cd34b_row1_col1, #T_cd34b_row2_col2, #T_cd34b_row3_col3, #T_cd34b_row4_col4, #T_cd34b_row5_col5 {\n",
       "  background-color: #b40426;\n",
       "  color: #f1f1f1;\n",
       "}\n",
       "#T_cd34b_row0_col1 {\n",
       "  background-color: #e6d7cf;\n",
       "  color: #000000;\n",
       "}\n",
       "#T_cd34b_row0_col2 {\n",
       "  background-color: #b1cbfc;\n",
       "  color: #000000;\n",
       "}\n",
       "#T_cd34b_row0_col3 {\n",
       "  background-color: #e7d7ce;\n",
       "  color: #000000;\n",
       "}\n",
       "#T_cd34b_row0_col4 {\n",
       "  background-color: #dbdcde;\n",
       "  color: #000000;\n",
       "}\n",
       "#T_cd34b_row0_col5 {\n",
       "  background-color: #aac7fd;\n",
       "  color: #000000;\n",
       "}\n",
       "#T_cd34b_row1_col0 {\n",
       "  background-color: #b5cdfa;\n",
       "  color: #000000;\n",
       "}\n",
       "#T_cd34b_row1_col2 {\n",
       "  background-color: #e16751;\n",
       "  color: #f1f1f1;\n",
       "}\n",
       "#T_cd34b_row1_col3 {\n",
       "  background-color: #6180e9;\n",
       "  color: #f1f1f1;\n",
       "}\n",
       "#T_cd34b_row1_col4 {\n",
       "  background-color: #5a78e4;\n",
       "  color: #f1f1f1;\n",
       "}\n",
       "#T_cd34b_row1_col5 {\n",
       "  background-color: #f7ad90;\n",
       "  color: #000000;\n",
       "}\n",
       "#T_cd34b_row2_col0, #T_cd34b_row2_col3, #T_cd34b_row2_col4, #T_cd34b_row3_col2, #T_cd34b_row3_col5, #T_cd34b_row4_col1, #T_cd34b_row4_col5 {\n",
       "  background-color: #3b4cc0;\n",
       "  color: #f1f1f1;\n",
       "}\n",
       "#T_cd34b_row2_col1 {\n",
       "  background-color: #e57058;\n",
       "  color: #f1f1f1;\n",
       "}\n",
       "#T_cd34b_row2_col5 {\n",
       "  background-color: #f1cdba;\n",
       "  color: #000000;\n",
       "}\n",
       "#T_cd34b_row3_col0 {\n",
       "  background-color: #9abbff;\n",
       "  color: #000000;\n",
       "}\n",
       "#T_cd34b_row3_col1 {\n",
       "  background-color: #3c4ec2;\n",
       "  color: #f1f1f1;\n",
       "}\n",
       "#T_cd34b_row3_col4 {\n",
       "  background-color: #cd423b;\n",
       "  color: #f1f1f1;\n",
       "}\n",
       "#T_cd34b_row4_col0 {\n",
       "  background-color: #85a8fc;\n",
       "  color: #f1f1f1;\n",
       "}\n",
       "#T_cd34b_row4_col2 {\n",
       "  background-color: #3f53c6;\n",
       "  color: #f1f1f1;\n",
       "}\n",
       "#T_cd34b_row4_col3 {\n",
       "  background-color: #cc403a;\n",
       "  color: #f1f1f1;\n",
       "}\n",
       "#T_cd34b_row5_col0 {\n",
       "  background-color: #8fb1fe;\n",
       "  color: #000000;\n",
       "}\n",
       "#T_cd34b_row5_col1 {\n",
       "  background-color: #f39778;\n",
       "  color: #000000;\n",
       "}\n",
       "#T_cd34b_row5_col2 {\n",
       "  background-color: #f7aa8c;\n",
       "  color: #000000;\n",
       "}\n",
       "#T_cd34b_row5_col3 {\n",
       "  background-color: #98b9ff;\n",
       "  color: #000000;\n",
       "}\n",
       "#T_cd34b_row5_col4 {\n",
       "  background-color: #94b6ff;\n",
       "  color: #000000;\n",
       "}\n",
       "</style>\n",
       "<table id=\"T_cd34b\">\n",
       "  <thead>\n",
       "    <tr>\n",
       "      <th class=\"blank level0\" >&nbsp;</th>\n",
       "      <th id=\"T_cd34b_level0_col0\" class=\"col_heading level0 col0\" >year</th>\n",
       "      <th id=\"T_cd34b_level0_col1\" class=\"col_heading level0 col1\" >engine_hp</th>\n",
       "      <th id=\"T_cd34b_level0_col2\" class=\"col_heading level0 col2\" >engine_cylinders</th>\n",
       "      <th id=\"T_cd34b_level0_col3\" class=\"col_heading level0 col3\" >highway_mpg</th>\n",
       "      <th id=\"T_cd34b_level0_col4\" class=\"col_heading level0 col4\" >city_mpg</th>\n",
       "      <th id=\"T_cd34b_level0_col5\" class=\"col_heading level0 col5\" >price</th>\n",
       "    </tr>\n",
       "  </thead>\n",
       "  <tbody>\n",
       "    <tr>\n",
       "      <th id=\"T_cd34b_level0_row0\" class=\"row_heading level0 row0\" >year</th>\n",
       "      <td id=\"T_cd34b_row0_col0\" class=\"data row0 col0\" >1.000000</td>\n",
       "      <td id=\"T_cd34b_row0_col1\" class=\"data row0 col1\" >0.338714</td>\n",
       "      <td id=\"T_cd34b_row0_col2\" class=\"data row0 col2\" >-0.040708</td>\n",
       "      <td id=\"T_cd34b_row0_col3\" class=\"data row0 col3\" >0.258240</td>\n",
       "      <td id=\"T_cd34b_row0_col4\" class=\"data row0 col4\" >0.198171</td>\n",
       "      <td id=\"T_cd34b_row0_col5\" class=\"data row0 col5\" >0.227590</td>\n",
       "    </tr>\n",
       "    <tr>\n",
       "      <th id=\"T_cd34b_level0_row1\" class=\"row_heading level0 row1\" >engine_hp</th>\n",
       "      <td id=\"T_cd34b_row1_col0\" class=\"data row1 col0\" >0.338714</td>\n",
       "      <td id=\"T_cd34b_row1_col1\" class=\"data row1 col1\" >1.000000</td>\n",
       "      <td id=\"T_cd34b_row1_col2\" class=\"data row1 col2\" >0.774851</td>\n",
       "      <td id=\"T_cd34b_row1_col3\" class=\"data row1 col3\" >-0.415707</td>\n",
       "      <td id=\"T_cd34b_row1_col4\" class=\"data row1 col4\" >-0.424918</td>\n",
       "      <td id=\"T_cd34b_row1_col5\" class=\"data row1 col5\" >0.650095</td>\n",
       "    </tr>\n",
       "    <tr>\n",
       "      <th id=\"T_cd34b_level0_row2\" class=\"row_heading level0 row2\" >engine_cylinders</th>\n",
       "      <td id=\"T_cd34b_row2_col0\" class=\"data row2 col0\" >-0.040708</td>\n",
       "      <td id=\"T_cd34b_row2_col1\" class=\"data row2 col1\" >0.774851</td>\n",
       "      <td id=\"T_cd34b_row2_col2\" class=\"data row2 col2\" >1.000000</td>\n",
       "      <td id=\"T_cd34b_row2_col3\" class=\"data row2 col3\" >-0.614541</td>\n",
       "      <td id=\"T_cd34b_row2_col4\" class=\"data row2 col4\" >-0.587306</td>\n",
       "      <td id=\"T_cd34b_row2_col5\" class=\"data row2 col5\" >0.526274</td>\n",
       "    </tr>\n",
       "    <tr>\n",
       "      <th id=\"T_cd34b_level0_row3\" class=\"row_heading level0 row3\" >highway_mpg</th>\n",
       "      <td id=\"T_cd34b_row3_col0\" class=\"data row3 col0\" >0.258240</td>\n",
       "      <td id=\"T_cd34b_row3_col1\" class=\"data row3 col1\" >-0.415707</td>\n",
       "      <td id=\"T_cd34b_row3_col2\" class=\"data row3 col2\" >-0.614541</td>\n",
       "      <td id=\"T_cd34b_row3_col3\" class=\"data row3 col3\" >1.000000</td>\n",
       "      <td id=\"T_cd34b_row3_col4\" class=\"data row3 col4\" >0.886829</td>\n",
       "      <td id=\"T_cd34b_row3_col5\" class=\"data row3 col5\" >-0.160043</td>\n",
       "    </tr>\n",
       "    <tr>\n",
       "      <th id=\"T_cd34b_level0_row4\" class=\"row_heading level0 row4\" >city_mpg</th>\n",
       "      <td id=\"T_cd34b_row4_col0\" class=\"data row4 col0\" >0.198171</td>\n",
       "      <td id=\"T_cd34b_row4_col1\" class=\"data row4 col1\" >-0.424918</td>\n",
       "      <td id=\"T_cd34b_row4_col2\" class=\"data row4 col2\" >-0.587306</td>\n",
       "      <td id=\"T_cd34b_row4_col3\" class=\"data row4 col3\" >0.886829</td>\n",
       "      <td id=\"T_cd34b_row4_col4\" class=\"data row4 col4\" >1.000000</td>\n",
       "      <td id=\"T_cd34b_row4_col5\" class=\"data row4 col5\" >-0.157676</td>\n",
       "    </tr>\n",
       "    <tr>\n",
       "      <th id=\"T_cd34b_level0_row5\" class=\"row_heading level0 row5\" >price</th>\n",
       "      <td id=\"T_cd34b_row5_col0\" class=\"data row5 col0\" >0.227590</td>\n",
       "      <td id=\"T_cd34b_row5_col1\" class=\"data row5 col1\" >0.650095</td>\n",
       "      <td id=\"T_cd34b_row5_col2\" class=\"data row5 col2\" >0.526274</td>\n",
       "      <td id=\"T_cd34b_row5_col3\" class=\"data row5 col3\" >-0.160043</td>\n",
       "      <td id=\"T_cd34b_row5_col4\" class=\"data row5 col4\" >-0.157676</td>\n",
       "      <td id=\"T_cd34b_row5_col5\" class=\"data row5 col5\" >1.000000</td>\n",
       "    </tr>\n",
       "  </tbody>\n",
       "</table>\n"
      ],
      "text/plain": [
       "<pandas.io.formats.style.Styler at 0x1fdbe7cefd0>"
      ]
     },
     "execution_count": 29,
     "metadata": {},
     "output_type": "execute_result"
    }
   ],
   "source": [
    "#  pip instal Jinja2\n",
    "corr = df[numeric].corr()\n",
    "corr.style.background_gradient(cmap='coolwarm')\n",
    "# 'RdBu_r', 'BrBG_r', & PuOr_r are other good diverging colormaps"
   ]
  },
  {
   "cell_type": "code",
   "execution_count": 31,
   "metadata": {},
   "outputs": [
    {
     "data": {
      "text/plain": [
       "year                0.338714\n",
       "engine_hp           0.774851\n",
       "engine_cylinders    0.774851\n",
       "highway_mpg         0.886829\n",
       "city_mpg            0.886829\n",
       "price               0.650095\n",
       "dtype: float64"
      ]
     },
     "execution_count": 31,
     "metadata": {},
     "output_type": "execute_result"
    }
   ],
   "source": [
    "corr[corr<1].max()"
   ]
  },
  {
   "cell_type": "code",
   "execution_count": 37,
   "metadata": {},
   "outputs": [
    {
     "name": "stderr",
     "output_type": "stream",
     "text": [
      "C:\\Users\\hatem.kamal\\AppData\\Local\\Temp\\ipykernel_29760\\1610569711.py:1: SettingWithCopyWarning: \n",
      "A value is trying to be set on a copy of a slice from a DataFrame.\n",
      "Try using .loc[row_indexer,col_indexer] = value instead\n",
      "\n",
      "See the caveats in the documentation: https://pandas.pydata.org/pandas-docs/stable/user_guide/indexing.html#returning-a-view-versus-a-copy\n",
      "  df['above_average'] = (df.price>df.price.mean()).astype(int)\n"
     ]
    },
    {
     "data": {
      "text/plain": [
       "0        1\n",
       "1        1\n",
       "2        0\n",
       "3        0\n",
       "4        0\n",
       "        ..\n",
       "11909    1\n",
       "11910    1\n",
       "11911    1\n",
       "11912    1\n",
       "11913    0\n",
       "Name: above_average, Length: 11914, dtype: int32"
      ]
     },
     "execution_count": 37,
     "metadata": {},
     "output_type": "execute_result"
    }
   ],
   "source": [
    "df['above_average'] = (df.price>df.price.mean()).astype(int)\n",
    "df['above_average']"
   ]
  },
  {
   "cell_type": "markdown",
   "metadata": {},
   "source": [
    "### splitting the data"
   ]
  },
  {
   "cell_type": "code",
   "execution_count": 41,
   "metadata": {},
   "outputs": [
    {
     "data": {
      "text/plain": [
       "0        46135\n",
       "1        40650\n",
       "2        36350\n",
       "3        29450\n",
       "4        34500\n",
       "         ...  \n",
       "11909    46120\n",
       "11910    56670\n",
       "11911    50620\n",
       "11912    50920\n",
       "11913    28995\n",
       "Name: price, Length: 11914, dtype: int64"
      ]
     },
     "execution_count": 41,
     "metadata": {},
     "output_type": "execute_result"
    }
   ],
   "source": [
    "df['price']"
   ]
  },
  {
   "cell_type": "code",
   "execution_count": 42,
   "metadata": {},
   "outputs": [],
   "source": [
    "df_model = df.copy()\n",
    "del df_model['price']"
   ]
  },
  {
   "cell_type": "code",
   "execution_count": 43,
   "metadata": {},
   "outputs": [],
   "source": [
    "\n",
    "df_full_train, df_test = train_test_split(df_model, test_size=0.2, random_state=42)\n",
    "df_train, df_val = train_test_split(df_full_train, test_size=0.25, random_state=42)\n",
    "y_train = df_train.above_average.values\n",
    "y_val = df_val.above_average.values\n",
    "y_test = df_test.above_average.values\n",
    "\n",
    "del df_train['above_average']\n",
    "del df_val['above_average']\n",
    "del df_test['above_average']\n"
   ]
  },
  {
   "cell_type": "code",
   "execution_count": 45,
   "metadata": {},
   "outputs": [
    {
     "data": {
      "text/plain": [
       "make                  48\n",
       "model                869\n",
       "transmission_type      5\n",
       "vehicle_style         16\n",
       "dtype: int64"
      ]
     },
     "execution_count": 45,
     "metadata": {},
     "output_type": "execute_result"
    }
   ],
   "source": [
    "df_train[categorical].nunique()"
   ]
  },
  {
   "cell_type": "code",
   "execution_count": 47,
   "metadata": {},
   "outputs": [],
   "source": [
    "from sklearn.metrics import mutual_info_score"
   ]
  },
  {
   "cell_type": "code",
   "execution_count": 51,
   "metadata": {},
   "outputs": [
    {
     "name": "stdout",
     "output_type": "stream",
     "text": [
      "make : 0.24\n",
      "model : 0.46\n",
      "transmission_type : 0.02\n",
      "vehicle_style : 0.08\n"
     ]
    }
   ],
   "source": [
    "for cat in categorical:\n",
    "    print(f'{cat} : {round(mutual_info_score(df_train[cat], y_train),2)}')"
   ]
  },
  {
   "cell_type": "markdown",
   "metadata": {},
   "source": [
    "### one hot encoding\n"
   ]
  },
  {
   "cell_type": "code",
   "execution_count": 53,
   "metadata": {},
   "outputs": [
    {
     "data": {
      "text/plain": [
       "['year', 'engine_hp', 'engine_cylinders', 'highway_mpg', 'city_mpg']"
      ]
     },
     "execution_count": 53,
     "metadata": {},
     "output_type": "execute_result"
    }
   ],
   "source": [
    "from sklearn.feature_extraction import DictVectorizer\n",
    "numeric = numeric[:-1]\n",
    "numeric"
   ]
  },
  {
   "cell_type": "code",
   "execution_count": 54,
   "metadata": {},
   "outputs": [
    {
     "data": {
      "text/html": [
       "<style>#sk-container-id-1 {color: black;}#sk-container-id-1 pre{padding: 0;}#sk-container-id-1 div.sk-toggleable {background-color: white;}#sk-container-id-1 label.sk-toggleable__label {cursor: pointer;display: block;width: 100%;margin-bottom: 0;padding: 0.3em;box-sizing: border-box;text-align: center;}#sk-container-id-1 label.sk-toggleable__label-arrow:before {content: \"▸\";float: left;margin-right: 0.25em;color: #696969;}#sk-container-id-1 label.sk-toggleable__label-arrow:hover:before {color: black;}#sk-container-id-1 div.sk-estimator:hover label.sk-toggleable__label-arrow:before {color: black;}#sk-container-id-1 div.sk-toggleable__content {max-height: 0;max-width: 0;overflow: hidden;text-align: left;background-color: #f0f8ff;}#sk-container-id-1 div.sk-toggleable__content pre {margin: 0.2em;color: black;border-radius: 0.25em;background-color: #f0f8ff;}#sk-container-id-1 input.sk-toggleable__control:checked~div.sk-toggleable__content {max-height: 200px;max-width: 100%;overflow: auto;}#sk-container-id-1 input.sk-toggleable__control:checked~label.sk-toggleable__label-arrow:before {content: \"▾\";}#sk-container-id-1 div.sk-estimator input.sk-toggleable__control:checked~label.sk-toggleable__label {background-color: #d4ebff;}#sk-container-id-1 div.sk-label input.sk-toggleable__control:checked~label.sk-toggleable__label {background-color: #d4ebff;}#sk-container-id-1 input.sk-hidden--visually {border: 0;clip: rect(1px 1px 1px 1px);clip: rect(1px, 1px, 1px, 1px);height: 1px;margin: -1px;overflow: hidden;padding: 0;position: absolute;width: 1px;}#sk-container-id-1 div.sk-estimator {font-family: monospace;background-color: #f0f8ff;border: 1px dotted black;border-radius: 0.25em;box-sizing: border-box;margin-bottom: 0.5em;}#sk-container-id-1 div.sk-estimator:hover {background-color: #d4ebff;}#sk-container-id-1 div.sk-parallel-item::after {content: \"\";width: 100%;border-bottom: 1px solid gray;flex-grow: 1;}#sk-container-id-1 div.sk-label:hover label.sk-toggleable__label {background-color: #d4ebff;}#sk-container-id-1 div.sk-serial::before {content: \"\";position: absolute;border-left: 1px solid gray;box-sizing: border-box;top: 0;bottom: 0;left: 50%;z-index: 0;}#sk-container-id-1 div.sk-serial {display: flex;flex-direction: column;align-items: center;background-color: white;padding-right: 0.2em;padding-left: 0.2em;position: relative;}#sk-container-id-1 div.sk-item {position: relative;z-index: 1;}#sk-container-id-1 div.sk-parallel {display: flex;align-items: stretch;justify-content: center;background-color: white;position: relative;}#sk-container-id-1 div.sk-item::before, #sk-container-id-1 div.sk-parallel-item::before {content: \"\";position: absolute;border-left: 1px solid gray;box-sizing: border-box;top: 0;bottom: 0;left: 50%;z-index: -1;}#sk-container-id-1 div.sk-parallel-item {display: flex;flex-direction: column;z-index: 1;position: relative;background-color: white;}#sk-container-id-1 div.sk-parallel-item:first-child::after {align-self: flex-end;width: 50%;}#sk-container-id-1 div.sk-parallel-item:last-child::after {align-self: flex-start;width: 50%;}#sk-container-id-1 div.sk-parallel-item:only-child::after {width: 0;}#sk-container-id-1 div.sk-dashed-wrapped {border: 1px dashed gray;margin: 0 0.4em 0.5em 0.4em;box-sizing: border-box;padding-bottom: 0.4em;background-color: white;}#sk-container-id-1 div.sk-label label {font-family: monospace;font-weight: bold;display: inline-block;line-height: 1.2em;}#sk-container-id-1 div.sk-label-container {text-align: center;}#sk-container-id-1 div.sk-container {/* jupyter's `normalize.less` sets `[hidden] { display: none; }` but bootstrap.min.css set `[hidden] { display: none !important; }` so we also need the `!important` here to be able to override the default hidden behavior on the sphinx rendered scikit-learn.org. See: https://github.com/scikit-learn/scikit-learn/issues/21755 */display: inline-block !important;position: relative;}#sk-container-id-1 div.sk-text-repr-fallback {display: none;}</style><div id=\"sk-container-id-1\" class=\"sk-top-container\"><div class=\"sk-text-repr-fallback\"><pre>DictVectorizer(sparse=False)</pre><b>In a Jupyter environment, please rerun this cell to show the HTML representation or trust the notebook. <br />On GitHub, the HTML representation is unable to render, please try loading this page with nbviewer.org.</b></div><div class=\"sk-container\" hidden><div class=\"sk-item\"><div class=\"sk-estimator sk-toggleable\"><input class=\"sk-toggleable__control sk-hidden--visually\" id=\"sk-estimator-id-1\" type=\"checkbox\" checked><label for=\"sk-estimator-id-1\" class=\"sk-toggleable__label sk-toggleable__label-arrow\">DictVectorizer</label><div class=\"sk-toggleable__content\"><pre>DictVectorizer(sparse=False)</pre></div></div></div></div></div>"
      ],
      "text/plain": [
       "DictVectorizer(sparse=False)"
      ]
     },
     "execution_count": 54,
     "metadata": {},
     "output_type": "execute_result"
    }
   ],
   "source": [
    "train_dict = df_train[categorical + numeric].to_dict(orient='records')\n",
    "\n",
    "dv = DictVectorizer(sparse=False)\n",
    "dv.fit(train_dict)\n"
   ]
  },
  {
   "cell_type": "code",
   "execution_count": 57,
   "metadata": {},
   "outputs": [
    {
     "data": {
      "text/plain": [
       "array(['city_mpg', 'engine_cylinders', 'engine_hp', 'highway_mpg',\n",
       "       'make=Acura', 'make=Alfa Romeo', 'make=Aston Martin', 'make=Audi',\n",
       "       'make=BMW', 'make=Bentley', 'make=Bugatti', 'make=Buick',\n",
       "       'make=Cadillac', 'make=Chevrolet', 'make=Chrysler', 'make=Dodge',\n",
       "       'make=FIAT', 'make=Ferrari', 'make=Ford', 'make=GMC',\n",
       "       'make=Genesis', 'make=HUMMER', 'make=Honda', 'make=Hyundai',\n",
       "       'make=Infiniti', 'make=Kia', 'make=Lamborghini', 'make=Land Rover',\n",
       "       'make=Lexus', 'make=Lincoln', 'make=Lotus', 'make=Maserati',\n",
       "       'make=Maybach', 'make=Mazda', 'make=McLaren', 'make=Mercedes-Benz',\n",
       "       'make=Mitsubishi', 'make=Nissan', 'make=Oldsmobile',\n",
       "       'make=Plymouth', 'make=Pontiac', 'make=Porsche',\n",
       "       'make=Rolls-Royce', 'make=Saab', 'make=Scion', 'make=Spyker',\n",
       "       'make=Subaru', 'make=Suzuki', 'make=Tesla', 'make=Toyota',\n",
       "       'make=Volkswagen', 'make=Volvo', 'model=1 Series', 'model=100',\n",
       "       'model=124 Spider', 'model=190-Class', 'model=2', 'model=2 Series',\n",
       "       'model=200', 'model=200SX', 'model=240', 'model=240SX', 'model=3',\n",
       "       'model=3 Series', 'model=3 Series Gran Turismo', 'model=300',\n",
       "       'model=300-Class', 'model=3000GT', 'model=300M', 'model=300ZX',\n",
       "       'model=323', 'model=350-Class', 'model=350Z', 'model=360',\n",
       "       'model=370Z', 'model=4 Series', 'model=4 Series Gran Coupe',\n",
       "       'model=400-Class', 'model=420-Class', 'model=456M',\n",
       "       'model=458 Italia', 'model=4C', 'model=4Runner', 'model=5',\n",
       "       'model=5 Series', 'model=5 Series Gran Turismo', 'model=500',\n",
       "       'model=500-Class', 'model=500L', 'model=500X', 'model=500e',\n",
       "       'model=550', 'model=560-Class', 'model=57', 'model=570S',\n",
       "       'model=575M', 'model=599', 'model=6', 'model=6 Series',\n",
       "       'model=6 Series Gran Coupe', 'model=600-Class', 'model=6000',\n",
       "       'model=612 Scaglietti', 'model=62', 'model=626', 'model=7 Series',\n",
       "       'model=740', 'model=760', 'model=780', 'model=8 Series',\n",
       "       'model=80', 'model=850', 'model=9-2X', 'model=9-3',\n",
       "       'model=9-3 Griffin', 'model=9-4X', 'model=9-5', 'model=9-7X',\n",
       "       'model=90', 'model=900', 'model=9000', 'model=911', 'model=928',\n",
       "       'model=929', 'model=940', 'model=944', 'model=960', 'model=968',\n",
       "       'model=A3', 'model=A4', 'model=A5', 'model=A6', 'model=A7',\n",
       "       'model=A8', 'model=ALPINA B6 Gran Coupe', 'model=ALPINA B7',\n",
       "       'model=AMG GT', 'model=ATS', 'model=ATS Coupe', 'model=Acadia',\n",
       "       'model=Acadia Limited', 'model=Accent', 'model=Acclaim',\n",
       "       'model=Accord', 'model=Accord Crosstour', 'model=Accord Hybrid',\n",
       "       'model=Accord Plug-In Hybrid', 'model=Achieva',\n",
       "       'model=ActiveHybrid 5', 'model=ActiveHybrid 7',\n",
       "       'model=ActiveHybrid X6', 'model=Aerio', 'model=Aerostar',\n",
       "       'model=Alero', 'model=Allante', 'model=Altima',\n",
       "       'model=Altima Hybrid', 'model=Amanti', 'model=Armada',\n",
       "       'model=Arnage', 'model=Aspen', 'model=Aspire', 'model=Astro',\n",
       "       'model=Astro Cargo', 'model=Aurora', 'model=Avalanche',\n",
       "       'model=Avalon', 'model=Avalon Hybrid', 'model=Avenger',\n",
       "       'model=Aventador', 'model=Aveo', 'model=Aviator', 'model=Axxess',\n",
       "       'model=Azera', 'model=Aztek', 'model=Azure', 'model=Azure T',\n",
       "       'model=B-Class Electric Drive', 'model=B-Series',\n",
       "       'model=B-Series Pickup', 'model=B-Series Truck',\n",
       "       'model=B9 Tribeca', 'model=BRZ', 'model=Baja', 'model=Beetle',\n",
       "       'model=Beetle Convertible', 'model=Beretta',\n",
       "       'model=Black Diamond Avalanche', 'model=Blackwood', 'model=Blazer',\n",
       "       'model=Bonneville', 'model=Borrego', 'model=Boxster',\n",
       "       'model=Bravada', 'model=Breeze', 'model=Bronco', 'model=Bronco II',\n",
       "       'model=Brooklands', 'model=Brougham', 'model=C-Class',\n",
       "       'model=C-Max Hybrid', 'model=C/K 1500 Series',\n",
       "       'model=C/K 2500 Series', 'model=C30', 'model=C43 AMG', 'model=C70',\n",
       "       'model=C8', 'model=CC', 'model=CL', 'model=CL-Class',\n",
       "       'model=CLA-Class', 'model=CLK-Class', 'model=CLS-Class',\n",
       "       'model=CR-V', 'model=CR-Z', 'model=CT6', 'model=CTS',\n",
       "       'model=CTS Coupe', 'model=CTS Wagon', 'model=CTS-V',\n",
       "       'model=CTS-V Coupe', 'model=CTS-V Wagon', 'model=CX-3',\n",
       "       'model=CX-5', 'model=CX-7', 'model=CX-9', 'model=Cabrio',\n",
       "       'model=Cabriolet', 'model=Cadenza', 'model=Caliber',\n",
       "       'model=Camaro', 'model=Camry', 'model=Camry Hybrid',\n",
       "       'model=Camry Solara', 'model=Canyon', 'model=Caprice',\n",
       "       'model=Captiva Sport', 'model=Caravan', 'model=Carrera GT',\n",
       "       'model=Cascada', 'model=Catera', 'model=Cavalier', 'model=Cayenne',\n",
       "       'model=Cayman', 'model=Cayman S', 'model=Celebrity',\n",
       "       'model=Celica', 'model=Century', 'model=Challenger',\n",
       "       'model=Charger', 'model=Chevy Van', 'model=City Express',\n",
       "       'model=Civic', 'model=Civic CRX', 'model=Civic del Sol',\n",
       "       'model=Classic', 'model=Cobalt', 'model=Colorado', 'model=Colt',\n",
       "       'model=Concorde', 'model=Continental',\n",
       "       'model=Continental Flying Spur',\n",
       "       'model=Continental Flying Spur Speed', 'model=Continental GT',\n",
       "       'model=Continental GT Speed',\n",
       "       'model=Continental GT Speed Convertible', 'model=Continental GTC',\n",
       "       'model=Continental GTC Speed', 'model=Continental Supersports',\n",
       "       'model=Continental Supersports Convertible', 'model=Contour',\n",
       "       'model=Corniche', 'model=Corolla', 'model=Corolla iM',\n",
       "       'model=Corrado', 'model=Corvette', 'model=Corvette Stingray',\n",
       "       'model=Coupe', 'model=Cressida', 'model=Crossfire',\n",
       "       'model=Crosstour', 'model=Crosstrek', 'model=Crown Victoria',\n",
       "       'model=Cruze', 'model=Cruze Limited', 'model=Cube',\n",
       "       'model=Custom Cruiser', 'model=Cutlass', 'model=Cutlass Calais',\n",
       "       'model=Cutlass Ciera', 'model=Cutlass Supreme', 'model=DB9',\n",
       "       'model=DB9 GT', 'model=DBS', 'model=DTS', 'model=Dakota',\n",
       "       'model=Dart', 'model=Dawn', 'model=Daytona', 'model=DeVille',\n",
       "       'model=Defender', 'model=Diablo', 'model=Diamante',\n",
       "       'model=Discovery', 'model=Discovery Series II',\n",
       "       'model=Discovery Sport', 'model=Durango', 'model=Dynasty',\n",
       "       'model=E-150', 'model=E-250', 'model=E-Class',\n",
       "       'model=E-Series Van', 'model=E-Series Wagon', 'model=E55 AMG',\n",
       "       'model=ECHO', 'model=ES 250', 'model=ES 300', 'model=ES 300h',\n",
       "       'model=EX', 'model=EX35', 'model=Eclipse', 'model=Eclipse Spyder',\n",
       "       'model=Edge', 'model=Eighty-Eight', 'model=Eighty-Eight Royale',\n",
       "       'model=Elantra', 'model=Elantra Coupe', 'model=Elantra GT',\n",
       "       'model=Elantra Touring', 'model=Eldorado', 'model=Electra',\n",
       "       'model=Element', 'model=Elise', 'model=Enclave', 'model=Encore',\n",
       "       'model=Endeavor', 'model=Entourage', 'model=Envision',\n",
       "       'model=Envoy', 'model=Envoy XL', 'model=Envoy XUV', 'model=Eos',\n",
       "       'model=Equator', 'model=Equinox', 'model=Equus', 'model=Escalade',\n",
       "       'model=Escalade ESV', 'model=Escalade EXT',\n",
       "       'model=Escalade Hybrid', 'model=Escape', 'model=Escape Hybrid',\n",
       "       'model=Escort', 'model=Esprit', 'model=Esteem', 'model=EuroVan',\n",
       "       'model=Evora', 'model=Excel', 'model=Exige', 'model=Expedition',\n",
       "       'model=Explorer', 'model=Explorer Sport',\n",
       "       'model=Explorer Sport Trac', 'model=Expo', 'model=Express',\n",
       "       'model=Express Cargo', 'model=F-150', 'model=F-150 Heritage',\n",
       "       'model=F-150 SVT Lightning', 'model=F-250', 'model=F12 Berlinetta',\n",
       "       'model=F430', 'model=FF', 'model=FJ Cruiser', 'model=FR-S',\n",
       "       'model=FX', 'model=FX35', 'model=FX45', 'model=FX50',\n",
       "       'model=Festiva', 'model=Fiesta', 'model=Firebird', 'model=Fit',\n",
       "       'model=Five Hundred', 'model=Fleetwood', 'model=Flex',\n",
       "       'model=Flying Spur', 'model=Focus', 'model=Focus ST',\n",
       "       'model=Forenza', 'model=Forester', 'model=Forte', 'model=Fox',\n",
       "       'model=Freelander', 'model=Freestar', 'model=Freestyle',\n",
       "       'model=Frontier', 'model=Fusion', 'model=Fusion Hybrid',\n",
       "       'model=G Convertible', 'model=G Coupe', 'model=G Sedan',\n",
       "       'model=G-Class', 'model=G20', 'model=G3', 'model=G35', 'model=G37',\n",
       "       'model=G37 Convertible', 'model=G37 Coupe', 'model=G37 Sedan',\n",
       "       'model=G5', 'model=G6', 'model=G8', 'model=G80', 'model=GL-Class',\n",
       "       'model=GLA-Class', 'model=GLC-Class', 'model=GLE-Class',\n",
       "       'model=GLE-Class Coupe', 'model=GLI', 'model=GLK-Class',\n",
       "       'model=GLS-Class', 'model=GS 200t', 'model=GS 300', 'model=GS 350',\n",
       "       'model=GS 400', 'model=GS 430', 'model=GS 450h', 'model=GS 460',\n",
       "       'model=GT', 'model=GT-R', 'model=GTI', 'model=GTO', 'model=GX 460',\n",
       "       'model=GX 470', 'model=Galant', 'model=Gallardo', 'model=Genesis',\n",
       "       'model=Genesis Coupe', 'model=Ghibli', 'model=Ghost',\n",
       "       'model=Ghost Series II', 'model=Golf', 'model=Golf Alltrack',\n",
       "       'model=Golf GTI', 'model=Golf R', 'model=Golf SportWagen',\n",
       "       'model=GranSport', 'model=GranTurismo',\n",
       "       'model=GranTurismo Convertible', 'model=Grand Am',\n",
       "       'model=Grand Caravan', 'model=Grand Prix', 'model=Grand Vitara',\n",
       "       'model=Grand Voyager', 'model=H3', 'model=H3T', 'model=HHR',\n",
       "       'model=HR-V', 'model=HS 250h', 'model=Highlander',\n",
       "       'model=Highlander Hybrid', 'model=Horizon', 'model=Huracan',\n",
       "       'model=I30', 'model=I35', 'model=ILX', 'model=ILX Hybrid',\n",
       "       'model=IS 200t', 'model=IS 250', 'model=IS 250 C', 'model=IS 300',\n",
       "       'model=IS 350', 'model=IS 350 C', 'model=IS F', 'model=Impala',\n",
       "       'model=Impala Limited', 'model=Imperial', 'model=Impreza',\n",
       "       'model=Impreza WRX', 'model=Insight', 'model=Integra',\n",
       "       'model=Intrepid', 'model=Intrigue', 'model=J30', 'model=JX',\n",
       "       'model=Jetta', 'model=Jetta GLI', 'model=Jetta Hybrid',\n",
       "       'model=Jetta SportWagen', 'model=Jimmy', 'model=Journey',\n",
       "       'model=Juke', 'model=Justy', 'model=K900', 'model=Kizashi',\n",
       "       'model=LFA', 'model=LHS', 'model=LR2', 'model=LR3', 'model=LR4',\n",
       "       'model=LS', 'model=LS 400', 'model=LS 430', 'model=LS 460',\n",
       "       'model=LS 600h L', 'model=LSS', 'model=LTD Crown Victoria',\n",
       "       'model=LX 450', 'model=LX 470', 'model=LX 570', 'model=LaCrosse',\n",
       "       'model=Lancer', 'model=Lancer Evolution', 'model=Lancer Sportback',\n",
       "       'model=Land Cruiser', 'model=Laser', 'model=Le Baron',\n",
       "       'model=Le Mans', 'model=LeSabre', 'model=Leaf', 'model=Legacy',\n",
       "       'model=Legend', 'model=Levante', 'model=Loyale', 'model=Lucerne',\n",
       "       'model=Lumina', 'model=Lumina Minivan', 'model=M', 'model=M-Class',\n",
       "       'model=M2', 'model=M3', 'model=M30', 'model=M35', 'model=M37',\n",
       "       'model=M4', 'model=M45', 'model=M5', 'model=M56', 'model=M6',\n",
       "       'model=M6 Gran Coupe', 'model=MDX', 'model=MKC', 'model=MKS',\n",
       "       'model=MKT', 'model=MKX', 'model=MKZ', 'model=MKZ Hybrid',\n",
       "       'model=MP4-12C', 'model=MPV', 'model=MR2', 'model=MR2 Spyder',\n",
       "       'model=MX-3', 'model=MX-5 Miata', 'model=MX-6', 'model=Macan',\n",
       "       'model=Magnum', 'model=Malibu', 'model=Malibu Classic',\n",
       "       'model=Malibu Hybrid', 'model=Malibu Limited', 'model=Malibu Maxx',\n",
       "       'model=Mark LT', 'model=Mark VII', 'model=Mark VIII',\n",
       "       'model=Matrix', 'model=Maxima', 'model=Maybach',\n",
       "       'model=Mazdaspeed 3', 'model=Mazdaspeed MX-5 Miata',\n",
       "       'model=Mazdaspeed Protege', 'model=Metris', 'model=Metro',\n",
       "       'model=Mighty Max Pickup', 'model=Millenia', 'model=Mirage',\n",
       "       'model=Mirage G4', 'model=Model S', 'model=Monaco',\n",
       "       'model=Montana', 'model=Montana SV6', 'model=Monte Carlo',\n",
       "       'model=Montero', 'model=Montero Sport', 'model=Mulsanne',\n",
       "       'model=Murano', 'model=Murano CrossCabriolet', 'model=Murcielago',\n",
       "       'model=Mustang', 'model=Mustang SVT Cobra', 'model=NSX',\n",
       "       'model=NV200', 'model=NX', 'model=NX 200t', 'model=NX 300h',\n",
       "       'model=Navajo', 'model=Navigator', 'model=Neon',\n",
       "       'model=New Beetle', 'model=New Yorker', 'model=Ninety-Eight',\n",
       "       'model=Nitro', 'model=Odyssey', 'model=Omni', 'model=Optima',\n",
       "       'model=Optima Hybrid', 'model=Outback', 'model=Outlander',\n",
       "       'model=Outlander Sport', 'model=PT Cruiser', 'model=Pacifica',\n",
       "       'model=Panamera', 'model=Park Avenue', 'model=Paseo',\n",
       "       'model=Passat', 'model=Passport', 'model=Pathfinder',\n",
       "       'model=Phaeton', 'model=Phantom', 'model=Phantom Coupe',\n",
       "       'model=Phantom Drophead Coupe', 'model=Pickup', 'model=Pilot',\n",
       "       'model=Precis', 'model=Prelude', 'model=Previa', 'model=Prius',\n",
       "       'model=Prius Prime', 'model=Prius c', 'model=Prius v',\n",
       "       'model=Prizm', 'model=Probe', 'model=Protege', 'model=Protege5',\n",
       "       'model=Prowler', 'model=Q3', 'model=Q40', 'model=Q45', 'model=Q5',\n",
       "       'model=Q50', 'model=Q60 Convertible', 'model=Q60 Coupe',\n",
       "       'model=Q7', 'model=Q70', 'model=QX', 'model=QX4', 'model=QX50',\n",
       "       'model=QX56', 'model=QX60', 'model=QX70', 'model=QX80',\n",
       "       'model=Quattroporte', 'model=Quest', 'model=R-Class', 'model=R32',\n",
       "       'model=R8', 'model=RAM 150', 'model=RAM 250', 'model=RAV4',\n",
       "       'model=RAV4 EV', 'model=RAV4 Hybrid', 'model=RC 200t',\n",
       "       'model=RC 300', 'model=RC 350', 'model=RDX', 'model=RL',\n",
       "       'model=RLX', 'model=RS 4', 'model=RS 5', 'model=RS 7', 'model=RSX',\n",
       "       'model=RX 300', 'model=RX 330', 'model=RX 350', 'model=RX 400h',\n",
       "       'model=RX 450h', 'model=RX-7', 'model=RX-8', 'model=Rabbit',\n",
       "       'model=Raider', 'model=Rainier', 'model=Rally Wagon',\n",
       "       'model=Ram 50 Pickup', 'model=Ram Cargo', 'model=Ram Pickup 1500',\n",
       "       'model=Ram Van', 'model=Ram Wagon', 'model=Ramcharger',\n",
       "       'model=Range Rover', 'model=Range Rover Evoque',\n",
       "       'model=Range Rover Sport', 'model=Ranger', 'model=Rapide',\n",
       "       'model=Rapide S', 'model=Reatta', 'model=Regal', 'model=Regency',\n",
       "       'model=Rendezvous', 'model=Reno', 'model=Reventon',\n",
       "       'model=Ridgeline', 'model=Rio', 'model=Riviera',\n",
       "       'model=Roadmaster', 'model=Rogue', 'model=Rogue Select',\n",
       "       'model=Rondo', 'model=Routan', 'model=S-10', 'model=S-10 Blazer',\n",
       "       'model=S-15', 'model=S-15 Jimmy', 'model=S-Class', 'model=S2000',\n",
       "       'model=S3', 'model=S4', 'model=S40', 'model=S5', 'model=S6',\n",
       "       'model=S60', 'model=S60 Cross Country', 'model=S7', 'model=S70',\n",
       "       'model=S8', 'model=S80', 'model=S90', 'model=SC 300',\n",
       "       'model=SC 400', 'model=SC 430', 'model=SL-Class',\n",
       "       'model=SLC-Class', 'model=SLK-Class', 'model=SLR McLaren',\n",
       "       'model=SLS AMG', 'model=SLS AMG GT',\n",
       "       'model=SLS AMG GT Final Edition', 'model=SLX', 'model=SQ5',\n",
       "       'model=SRT Viper', 'model=SRX', 'model=STS', 'model=STS-V',\n",
       "       'model=SVX', 'model=SX4', 'model=Safari', 'model=Safari Cargo',\n",
       "       'model=Samurai', 'model=Santa Fe', 'model=Santa Fe Sport',\n",
       "       'model=Savana', 'model=Savana Cargo', 'model=Scoupe',\n",
       "       'model=Sebring', 'model=Sedona', 'model=Sentra', 'model=Sephia',\n",
       "       'model=Sequoia', 'model=Seville', 'model=Shadow',\n",
       "       'model=Shelby GT350', 'model=Shelby GT500', 'model=Sidekick',\n",
       "       'model=Sienna', 'model=Sierra 1500', 'model=Sierra 1500 Classic',\n",
       "       'model=Sierra 1500 Hybrid', 'model=Sierra 1500HD',\n",
       "       'model=Sierra C3', 'model=Sierra Classic 1500', 'model=Sigma',\n",
       "       'model=Silhouette', 'model=Silver Seraph', 'model=Silverado 1500',\n",
       "       'model=Silverado 1500 Classic', 'model=Silverado 1500 Hybrid',\n",
       "       'model=Skylark', 'model=Solstice', 'model=Sonata',\n",
       "       'model=Sonata Hybrid', 'model=Sonic', 'model=Sonoma',\n",
       "       'model=Sorento', 'model=Soul', 'model=Soul EV', 'model=Spark',\n",
       "       'model=Spark EV', 'model=Spectra', 'model=Spirit',\n",
       "       'model=Sportage', 'model=Sportvan', 'model=Spyder', 'model=Stanza',\n",
       "       'model=Stealth', 'model=Stratus', 'model=Suburban',\n",
       "       'model=Sunbird', 'model=Sundance', 'model=Sunfire', 'model=Supra',\n",
       "       'model=Swift', 'model=Syclone', 'model=T100', 'model=TL',\n",
       "       'model=TLX', 'model=TSX', 'model=TSX Sport Wagon', 'model=TT',\n",
       "       'model=TTS', 'model=Tacoma', 'model=Tahoe', 'model=Tahoe Hybrid',\n",
       "       'model=Tahoe Limited/Z71', 'model=Taurus', 'model=Taurus X',\n",
       "       'model=Tempo', 'model=Tercel', 'model=Terrain', 'model=Terraza',\n",
       "       'model=Thunderbird', 'model=Tiburon', 'model=Tiguan',\n",
       "       'model=Titan', 'model=Toronado', 'model=Torrent', 'model=Touareg',\n",
       "       'model=Touareg 2', 'model=Town Car', 'model=Town and Country',\n",
       "       'model=Tracker', 'model=TrailBlazer', 'model=TrailBlazer EXT',\n",
       "       'model=Trans Sport', 'model=Transit Connect',\n",
       "       'model=Transit Wagon', 'model=Traverse', 'model=Trax',\n",
       "       'model=Tribeca', 'model=Tribute', 'model=Tribute Hybrid',\n",
       "       'model=Truck', 'model=Tucson', 'model=Tundra', 'model=Typhoon',\n",
       "       'model=Uplander', 'model=V12 Vanquish', 'model=V12 Vantage',\n",
       "       'model=V12 Vantage S', 'model=V40', 'model=V50', 'model=V60',\n",
       "       'model=V60 Cross Country', 'model=V70', 'model=V8 Vantage',\n",
       "       'model=Van', 'model=Vanagon', 'model=Vandura', 'model=Vanquish',\n",
       "       'model=Vanwagon', 'model=Veloster', 'model=Venture', 'model=Venza',\n",
       "       'model=Veracruz', 'model=Verano', 'model=Verona', 'model=Versa',\n",
       "       'model=Versa Note', 'model=Veyron 16.4', 'model=Vibe',\n",
       "       'model=Vigor', 'model=Viper', 'model=Virage', 'model=Vitara',\n",
       "       'model=Voyager', 'model=WRX', 'model=Windstar',\n",
       "       'model=Windstar Cargo', 'model=Wraith', 'model=X-90', 'model=X1',\n",
       "       'model=X3', 'model=X4', 'model=X5', 'model=X5 M', 'model=X6',\n",
       "       'model=X6 M', 'model=XC', 'model=XC60', 'model=XC70', 'model=XC90',\n",
       "       'model=XG300', 'model=XG350', 'model=XL-7', 'model=XL7',\n",
       "       'model=XLR', 'model=XLR-V', 'model=XT', 'model=XT5', 'model=XTS',\n",
       "       'model=XV Crosstrek', 'model=Xterra', 'model=Yaris',\n",
       "       'model=Yaris iA', 'model=Yukon', 'model=Yukon Denali',\n",
       "       'model=Yukon Hybrid', 'model=Yukon XL', 'model=Z3', 'model=Z4',\n",
       "       'model=Z4 M', 'model=Z8', 'model=ZDX', 'model=allroad',\n",
       "       'model=allroad quattro', 'model=e-Golf', 'model=i-MiEV',\n",
       "       'model=i3', 'model=iA', 'model=iQ', 'model=tC', 'model=xA',\n",
       "       'model=xB', 'model=xD', 'transmission_type=AUTOMATED_MANUAL',\n",
       "       'transmission_type=AUTOMATIC', 'transmission_type=DIRECT_DRIVE',\n",
       "       'transmission_type=MANUAL', 'transmission_type=UNKNOWN',\n",
       "       'vehicle_style=2dr Hatchback', 'vehicle_style=2dr SUV',\n",
       "       'vehicle_style=4dr Hatchback', 'vehicle_style=4dr SUV',\n",
       "       'vehicle_style=Cargo Minivan', 'vehicle_style=Cargo Van',\n",
       "       'vehicle_style=Convertible', 'vehicle_style=Convertible SUV',\n",
       "       'vehicle_style=Coupe', 'vehicle_style=Crew Cab Pickup',\n",
       "       'vehicle_style=Extended Cab Pickup',\n",
       "       'vehicle_style=Passenger Minivan', 'vehicle_style=Passenger Van',\n",
       "       'vehicle_style=Regular Cab Pickup', 'vehicle_style=Sedan',\n",
       "       'vehicle_style=Wagon', 'year'], dtype=object)"
      ]
     },
     "execution_count": 57,
     "metadata": {},
     "output_type": "execute_result"
    }
   ],
   "source": [
    "dv.get_feature_names_out()"
   ]
  },
  {
   "cell_type": "code",
   "execution_count": 61,
   "metadata": {},
   "outputs": [],
   "source": [
    "X_train = dv.transform(train_dict)\n"
   ]
  },
  {
   "cell_type": "markdown",
   "metadata": {},
   "source": [
    "### training model"
   ]
  },
  {
   "cell_type": "code",
   "execution_count": 62,
   "metadata": {},
   "outputs": [],
   "source": [
    "from sklearn.linear_model import LogisticRegression\n"
   ]
  },
  {
   "cell_type": "code",
   "execution_count": 63,
   "metadata": {},
   "outputs": [
    {
     "data": {
      "text/html": [
       "<style>#sk-container-id-2 {color: black;}#sk-container-id-2 pre{padding: 0;}#sk-container-id-2 div.sk-toggleable {background-color: white;}#sk-container-id-2 label.sk-toggleable__label {cursor: pointer;display: block;width: 100%;margin-bottom: 0;padding: 0.3em;box-sizing: border-box;text-align: center;}#sk-container-id-2 label.sk-toggleable__label-arrow:before {content: \"▸\";float: left;margin-right: 0.25em;color: #696969;}#sk-container-id-2 label.sk-toggleable__label-arrow:hover:before {color: black;}#sk-container-id-2 div.sk-estimator:hover label.sk-toggleable__label-arrow:before {color: black;}#sk-container-id-2 div.sk-toggleable__content {max-height: 0;max-width: 0;overflow: hidden;text-align: left;background-color: #f0f8ff;}#sk-container-id-2 div.sk-toggleable__content pre {margin: 0.2em;color: black;border-radius: 0.25em;background-color: #f0f8ff;}#sk-container-id-2 input.sk-toggleable__control:checked~div.sk-toggleable__content {max-height: 200px;max-width: 100%;overflow: auto;}#sk-container-id-2 input.sk-toggleable__control:checked~label.sk-toggleable__label-arrow:before {content: \"▾\";}#sk-container-id-2 div.sk-estimator input.sk-toggleable__control:checked~label.sk-toggleable__label {background-color: #d4ebff;}#sk-container-id-2 div.sk-label input.sk-toggleable__control:checked~label.sk-toggleable__label {background-color: #d4ebff;}#sk-container-id-2 input.sk-hidden--visually {border: 0;clip: rect(1px 1px 1px 1px);clip: rect(1px, 1px, 1px, 1px);height: 1px;margin: -1px;overflow: hidden;padding: 0;position: absolute;width: 1px;}#sk-container-id-2 div.sk-estimator {font-family: monospace;background-color: #f0f8ff;border: 1px dotted black;border-radius: 0.25em;box-sizing: border-box;margin-bottom: 0.5em;}#sk-container-id-2 div.sk-estimator:hover {background-color: #d4ebff;}#sk-container-id-2 div.sk-parallel-item::after {content: \"\";width: 100%;border-bottom: 1px solid gray;flex-grow: 1;}#sk-container-id-2 div.sk-label:hover label.sk-toggleable__label {background-color: #d4ebff;}#sk-container-id-2 div.sk-serial::before {content: \"\";position: absolute;border-left: 1px solid gray;box-sizing: border-box;top: 0;bottom: 0;left: 50%;z-index: 0;}#sk-container-id-2 div.sk-serial {display: flex;flex-direction: column;align-items: center;background-color: white;padding-right: 0.2em;padding-left: 0.2em;position: relative;}#sk-container-id-2 div.sk-item {position: relative;z-index: 1;}#sk-container-id-2 div.sk-parallel {display: flex;align-items: stretch;justify-content: center;background-color: white;position: relative;}#sk-container-id-2 div.sk-item::before, #sk-container-id-2 div.sk-parallel-item::before {content: \"\";position: absolute;border-left: 1px solid gray;box-sizing: border-box;top: 0;bottom: 0;left: 50%;z-index: -1;}#sk-container-id-2 div.sk-parallel-item {display: flex;flex-direction: column;z-index: 1;position: relative;background-color: white;}#sk-container-id-2 div.sk-parallel-item:first-child::after {align-self: flex-end;width: 50%;}#sk-container-id-2 div.sk-parallel-item:last-child::after {align-self: flex-start;width: 50%;}#sk-container-id-2 div.sk-parallel-item:only-child::after {width: 0;}#sk-container-id-2 div.sk-dashed-wrapped {border: 1px dashed gray;margin: 0 0.4em 0.5em 0.4em;box-sizing: border-box;padding-bottom: 0.4em;background-color: white;}#sk-container-id-2 div.sk-label label {font-family: monospace;font-weight: bold;display: inline-block;line-height: 1.2em;}#sk-container-id-2 div.sk-label-container {text-align: center;}#sk-container-id-2 div.sk-container {/* jupyter's `normalize.less` sets `[hidden] { display: none; }` but bootstrap.min.css set `[hidden] { display: none !important; }` so we also need the `!important` here to be able to override the default hidden behavior on the sphinx rendered scikit-learn.org. See: https://github.com/scikit-learn/scikit-learn/issues/21755 */display: inline-block !important;position: relative;}#sk-container-id-2 div.sk-text-repr-fallback {display: none;}</style><div id=\"sk-container-id-2\" class=\"sk-top-container\"><div class=\"sk-text-repr-fallback\"><pre>LogisticRegression(C=10, max_iter=1000, random_state=42, solver=&#x27;liblinear&#x27;)</pre><b>In a Jupyter environment, please rerun this cell to show the HTML representation or trust the notebook. <br />On GitHub, the HTML representation is unable to render, please try loading this page with nbviewer.org.</b></div><div class=\"sk-container\" hidden><div class=\"sk-item\"><div class=\"sk-estimator sk-toggleable\"><input class=\"sk-toggleable__control sk-hidden--visually\" id=\"sk-estimator-id-2\" type=\"checkbox\" checked><label for=\"sk-estimator-id-2\" class=\"sk-toggleable__label sk-toggleable__label-arrow\">LogisticRegression</label><div class=\"sk-toggleable__content\"><pre>LogisticRegression(C=10, max_iter=1000, random_state=42, solver=&#x27;liblinear&#x27;)</pre></div></div></div></div></div>"
      ],
      "text/plain": [
       "LogisticRegression(C=10, max_iter=1000, random_state=42, solver='liblinear')"
      ]
     },
     "execution_count": 63,
     "metadata": {},
     "output_type": "execute_result"
    }
   ],
   "source": [
    "model = LogisticRegression(solver='liblinear', C=10, max_iter=1000, random_state=42)\n",
    "model.fit(X_train, y_train)"
   ]
  },
  {
   "cell_type": "code",
   "execution_count": 65,
   "metadata": {},
   "outputs": [],
   "source": [
    "val_dict = df_val[categorical + numeric].to_dict(orient='records')\n",
    "X_val = dv.transform(val_dict)"
   ]
  },
  {
   "cell_type": "code",
   "execution_count": 66,
   "metadata": {},
   "outputs": [],
   "source": [
    "y_pred = model.predict_proba(X_val)[:, 1]"
   ]
  },
  {
   "cell_type": "code",
   "execution_count": 67,
   "metadata": {},
   "outputs": [],
   "source": [
    "above_avg = y_pred > 0.5"
   ]
  },
  {
   "cell_type": "code",
   "execution_count": 69,
   "metadata": {},
   "outputs": [
    {
     "data": {
      "text/plain": [
       "0.9450272765421738"
      ]
     },
     "execution_count": 69,
     "metadata": {},
     "output_type": "execute_result"
    }
   ],
   "source": [
    "(y_val == above_avg).mean()"
   ]
  },
  {
   "cell_type": "markdown",
   "metadata": {},
   "source": [
    "### for all cat feature"
   ]
  },
  {
   "cell_type": "code",
   "execution_count": 83,
   "metadata": {},
   "outputs": [
    {
     "name": "stdout",
     "output_type": "stream",
     "text": [
      "['xx', 'y']\n"
     ]
    }
   ],
   "source": [
    "c = ['xx','y']\n",
    "d=c.copy()\n",
    "c.remove('y')\n",
    "print(d)"
   ]
  },
  {
   "cell_type": "code",
   "execution_count": 86,
   "metadata": {},
   "outputs": [
    {
     "name": "stdout",
     "output_type": "stream",
     "text": [
      "make : -0.002\t 0.947\n",
      "model : 0.021\t 0.924\n",
      "transmission_type : 0.0\t 0.945\n",
      "vehicle_style : 0.013\t 0.932\n"
     ]
    }
   ],
   "source": [
    "for cat in categorical:\n",
    "    c = categorical.copy()\n",
    "    c.remove(cat)\n",
    "\n",
    "    train_dict = df_train[c + numeric].to_dict(orient='records')\n",
    "\n",
    "    dv = DictVectorizer(sparse=False)\n",
    "    dv.fit(train_dict)\n",
    "    X_train = dv.transform(train_dict)\n",
    "\n",
    "    model.fit(X_train, y_train)\n",
    "\n",
    "    val_dict = df_val[categorical + numeric].to_dict(orient='records')\n",
    "    X_val = dv.transform(val_dict)\n",
    "\n",
    "    y_pred = model.predict_proba(X_val)[:, 1]\n",
    "    above_avg = y_pred > 0.5\n",
    "\n",
    "    print(f'{cat} : {round(0.9450272765421738 - (y_val == above_avg).mean(),3)}\\t {round((y_val == above_avg).mean(),3)}')"
   ]
  },
  {
   "cell_type": "code",
   "execution_count": null,
   "metadata": {},
   "outputs": [],
   "source": [
    "model = LogisticRegression(solver='liblinear', C=10, max_iter=1000, random_state=42)\n",
    "Cs = []\n",
    "for cat in categorical:\n",
    "    c = categorical.copy()\n",
    "    c.remove(cat)\n",
    "\n",
    "    train_dict = df_train[c + numeric].to_dict(orient='records')\n",
    "\n",
    "    dv = DictVectorizer(sparse=False)\n",
    "    dv.fit(train_dict)\n",
    "    X_train = dv.transform(train_dict)\n",
    "\n",
    "    model.fit(X_train, y_train)\n",
    "\n",
    "    val_dict = df_val[categorical + numeric].to_dict(orient='records')\n",
    "    X_val = dv.transform(val_dict)\n",
    "\n",
    "    y_pred = model.predict_proba(X_val)[:, 1]\n",
    "    above_avg = y_pred > 0.5\n",
    "\n",
    "    print(f'{cat} : {round(0.9450272765421738 - (y_val == above_avg).mean(),3)}\\t {round((y_val == above_avg).mean(),3)}')"
   ]
  },
  {
   "cell_type": "code",
   "execution_count": 87,
   "metadata": {},
   "outputs": [],
   "source": [
    "from sklearn.linear_model import Ridge\n"
   ]
  },
  {
   "cell_type": "code",
   "execution_count": 89,
   "metadata": {},
   "outputs": [
    {
     "data": {
      "text/plain": [
       "Index(['make', 'model', 'year', 'engine_hp', 'engine_cylinders',\n",
       "       'transmission_type', 'vehicle_style', 'highway_mpg', 'city_mpg',\n",
       "       'price', 'above_average'],\n",
       "      dtype='object')"
      ]
     },
     "execution_count": 89,
     "metadata": {},
     "output_type": "execute_result"
    }
   ],
   "source": [
    "df.columns"
   ]
  },
  {
   "cell_type": "code",
   "execution_count": 90,
   "metadata": {},
   "outputs": [],
   "source": [
    "def rmse(y, y_pred):\n",
    "    error = y_pred - y\n",
    "    mse = (error ** 2).mean()\n",
    "    return np.sqrt(mse)"
   ]
  },
  {
   "cell_type": "code",
   "execution_count": 96,
   "metadata": {},
   "outputs": [
    {
     "name": "stderr",
     "output_type": "stream",
     "text": [
      "c:\\Users\\hatem.kamal\\AppData\\Local\\Programs\\Python\\Python311\\Lib\\site-packages\\sklearn\\linear_model\\_sag.py:350: ConvergenceWarning: The max_iter was reached which means the coef_ did not converge\n",
      "  warnings.warn(\n"
     ]
    },
    {
     "name": "stdout",
     "output_type": "stream",
     "text": [
      "val[0]:0.487\n"
     ]
    },
    {
     "name": "stderr",
     "output_type": "stream",
     "text": [
      "c:\\Users\\hatem.kamal\\AppData\\Local\\Programs\\Python\\Python311\\Lib\\site-packages\\sklearn\\linear_model\\_sag.py:350: ConvergenceWarning: The max_iter was reached which means the coef_ did not converge\n",
      "  warnings.warn(\n"
     ]
    },
    {
     "name": "stdout",
     "output_type": "stream",
     "text": [
      "val[0.01]:0.487\n"
     ]
    },
    {
     "name": "stderr",
     "output_type": "stream",
     "text": [
      "c:\\Users\\hatem.kamal\\AppData\\Local\\Programs\\Python\\Python311\\Lib\\site-packages\\sklearn\\linear_model\\_sag.py:350: ConvergenceWarning: The max_iter was reached which means the coef_ did not converge\n",
      "  warnings.warn(\n"
     ]
    },
    {
     "name": "stdout",
     "output_type": "stream",
     "text": [
      "val[0.1]:0.487\n"
     ]
    },
    {
     "name": "stderr",
     "output_type": "stream",
     "text": [
      "c:\\Users\\hatem.kamal\\AppData\\Local\\Programs\\Python\\Python311\\Lib\\site-packages\\sklearn\\linear_model\\_sag.py:350: ConvergenceWarning: The max_iter was reached which means the coef_ did not converge\n",
      "  warnings.warn(\n"
     ]
    },
    {
     "name": "stdout",
     "output_type": "stream",
     "text": [
      "val[1]:0.487\n",
      "val[10]:0.487\n"
     ]
    },
    {
     "name": "stderr",
     "output_type": "stream",
     "text": [
      "c:\\Users\\hatem.kamal\\AppData\\Local\\Programs\\Python\\Python311\\Lib\\site-packages\\sklearn\\linear_model\\_sag.py:350: ConvergenceWarning: The max_iter was reached which means the coef_ did not converge\n",
      "  warnings.warn(\n"
     ]
    }
   ],
   "source": [
    "df_lr = df.copy()\n",
    "del df_lr['above_average']\n",
    "df_full_train, df_test = train_test_split(df_lr, test_size=0.2, random_state=42)\n",
    "df_train, df_val = train_test_split(df_full_train, test_size=0.25, random_state=42)\n",
    "y_train = np.log1p(df_train.price.values)\n",
    "y_val = np.log1p(df_val.price.values)\n",
    "y_test = np.log1p(df_test.price.values)\n",
    "\n",
    "del df_train['price']\n",
    "del df_val['price']\n",
    "del df_test['price']\n",
    "\n",
    "train_dict = df_train[categorical + numeric].to_dict(orient='records')\n",
    "\n",
    "dv = DictVectorizer(sparse=False)\n",
    "dv.fit(train_dict)\n",
    "X_train = dv.transform(train_dict)\n",
    "\n",
    "val_dict = df_val[categorical + numeric].to_dict(orient='records')\n",
    "X_val = dv.transform(val_dict)\n",
    "\n",
    "for a in [0, 0.01, 0.1, 1, 10]:\n",
    "\n",
    "    clf = Ridge(alpha=a,  solver='sag')\n",
    "    clf.fit(X_train, y_train)\n",
    "\n",
    "    y_pred = clf.predict(X_val)\n",
    "    train_score = rmse(y_val, y_pred)\n",
    "    print(f'val[{a}]:{round(train_score, 3)}')\n",
    "    "
   ]
  },
  {
   "cell_type": "code",
   "execution_count": 93,
   "metadata": {},
   "outputs": [
    {
     "data": {
      "text/plain": [
       "((2383, 943), (7148, 943))"
      ]
     },
     "execution_count": 93,
     "metadata": {},
     "output_type": "execute_result"
    }
   ],
   "source": [
    "X_val.shape, X_train.shape"
   ]
  }
 ],
 "metadata": {
  "kernelspec": {
   "display_name": "Python 3",
   "language": "python",
   "name": "python3"
  },
  "language_info": {
   "codemirror_mode": {
    "name": "ipython",
    "version": 3
   },
   "file_extension": ".py",
   "mimetype": "text/x-python",
   "name": "python",
   "nbconvert_exporter": "python",
   "pygments_lexer": "ipython3",
   "version": "3.11.4"
  },
  "orig_nbformat": 4
 },
 "nbformat": 4,
 "nbformat_minor": 2
}
