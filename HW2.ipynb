{
 "cells": [
  {
   "cell_type": "markdown",
   "metadata": {},
   "source": [
    "### importing dependencies and loading the data"
   ]
  },
  {
   "cell_type": "code",
   "execution_count": 2,
   "metadata": {},
   "outputs": [],
   "source": [
    "import pandas as pd\n",
    "import numpy as np\n",
    "import seaborn as sns\n",
    "from matplotlib import pyplot as plt\n",
    "%matplotlib inline"
   ]
  },
  {
   "cell_type": "code",
   "execution_count": 3,
   "metadata": {},
   "outputs": [],
   "source": [
    "#pd.read_csv('https://raw.githubusercontent.com/alexeygrigorev/datasets/master/housing.csv').to_csv('HW2data', ignore_index=True)\n",
    "df = pd.read_csv('HW2data').drop(columns=['Unnamed: 0'])"
   ]
  },
  {
   "cell_type": "code",
   "execution_count": 4,
   "metadata": {},
   "outputs": [
    {
     "data": {
      "text/html": [
       "<div>\n",
       "<style scoped>\n",
       "    .dataframe tbody tr th:only-of-type {\n",
       "        vertical-align: middle;\n",
       "    }\n",
       "\n",
       "    .dataframe tbody tr th {\n",
       "        vertical-align: top;\n",
       "    }\n",
       "\n",
       "    .dataframe thead th {\n",
       "        text-align: right;\n",
       "    }\n",
       "</style>\n",
       "<table border=\"1\" class=\"dataframe\">\n",
       "  <thead>\n",
       "    <tr style=\"text-align: right;\">\n",
       "      <th></th>\n",
       "      <th>longitude</th>\n",
       "      <th>latitude</th>\n",
       "      <th>housing_median_age</th>\n",
       "      <th>total_rooms</th>\n",
       "      <th>total_bedrooms</th>\n",
       "      <th>population</th>\n",
       "      <th>households</th>\n",
       "      <th>median_income</th>\n",
       "      <th>median_house_value</th>\n",
       "      <th>ocean_proximity</th>\n",
       "    </tr>\n",
       "  </thead>\n",
       "  <tbody>\n",
       "    <tr>\n",
       "      <th>0</th>\n",
       "      <td>-122.23</td>\n",
       "      <td>37.88</td>\n",
       "      <td>41.0</td>\n",
       "      <td>880.0</td>\n",
       "      <td>129.0</td>\n",
       "      <td>322.0</td>\n",
       "      <td>126.0</td>\n",
       "      <td>8.3252</td>\n",
       "      <td>452600.0</td>\n",
       "      <td>NEAR BAY</td>\n",
       "    </tr>\n",
       "    <tr>\n",
       "      <th>1</th>\n",
       "      <td>-122.22</td>\n",
       "      <td>37.86</td>\n",
       "      <td>21.0</td>\n",
       "      <td>7099.0</td>\n",
       "      <td>1106.0</td>\n",
       "      <td>2401.0</td>\n",
       "      <td>1138.0</td>\n",
       "      <td>8.3014</td>\n",
       "      <td>358500.0</td>\n",
       "      <td>NEAR BAY</td>\n",
       "    </tr>\n",
       "    <tr>\n",
       "      <th>2</th>\n",
       "      <td>-122.24</td>\n",
       "      <td>37.85</td>\n",
       "      <td>52.0</td>\n",
       "      <td>1467.0</td>\n",
       "      <td>190.0</td>\n",
       "      <td>496.0</td>\n",
       "      <td>177.0</td>\n",
       "      <td>7.2574</td>\n",
       "      <td>352100.0</td>\n",
       "      <td>NEAR BAY</td>\n",
       "    </tr>\n",
       "    <tr>\n",
       "      <th>3</th>\n",
       "      <td>-122.25</td>\n",
       "      <td>37.85</td>\n",
       "      <td>52.0</td>\n",
       "      <td>1274.0</td>\n",
       "      <td>235.0</td>\n",
       "      <td>558.0</td>\n",
       "      <td>219.0</td>\n",
       "      <td>5.6431</td>\n",
       "      <td>341300.0</td>\n",
       "      <td>NEAR BAY</td>\n",
       "    </tr>\n",
       "    <tr>\n",
       "      <th>4</th>\n",
       "      <td>-122.25</td>\n",
       "      <td>37.85</td>\n",
       "      <td>52.0</td>\n",
       "      <td>1627.0</td>\n",
       "      <td>280.0</td>\n",
       "      <td>565.0</td>\n",
       "      <td>259.0</td>\n",
       "      <td>3.8462</td>\n",
       "      <td>342200.0</td>\n",
       "      <td>NEAR BAY</td>\n",
       "    </tr>\n",
       "  </tbody>\n",
       "</table>\n",
       "</div>"
      ],
      "text/plain": [
       "   longitude  latitude  housing_median_age  total_rooms  total_bedrooms  \\\n",
       "0    -122.23     37.88                41.0        880.0           129.0   \n",
       "1    -122.22     37.86                21.0       7099.0          1106.0   \n",
       "2    -122.24     37.85                52.0       1467.0           190.0   \n",
       "3    -122.25     37.85                52.0       1274.0           235.0   \n",
       "4    -122.25     37.85                52.0       1627.0           280.0   \n",
       "\n",
       "   population  households  median_income  median_house_value ocean_proximity  \n",
       "0       322.0       126.0         8.3252            452600.0        NEAR BAY  \n",
       "1      2401.0      1138.0         8.3014            358500.0        NEAR BAY  \n",
       "2       496.0       177.0         7.2574            352100.0        NEAR BAY  \n",
       "3       558.0       219.0         5.6431            341300.0        NEAR BAY  \n",
       "4       565.0       259.0         3.8462            342200.0        NEAR BAY  "
      ]
     },
     "execution_count": 4,
     "metadata": {},
     "output_type": "execute_result"
    }
   ],
   "source": [
    "df.head()"
   ]
  },
  {
   "cell_type": "markdown",
   "metadata": {},
   "source": [
    "### exploring data\n",
    "1- check nulls and dtypes. \n",
    "###\n",
    "2- check graphs.\n",
    "###\n",
    "3- check uniques."
   ]
  },
  {
   "cell_type": "code",
   "execution_count": 5,
   "metadata": {},
   "outputs": [
    {
     "name": "stdout",
     "output_type": "stream",
     "text": [
      "<class 'pandas.core.frame.DataFrame'>\n",
      "RangeIndex: 20640 entries, 0 to 20639\n",
      "Data columns (total 10 columns):\n",
      " #   Column              Non-Null Count  Dtype  \n",
      "---  ------              --------------  -----  \n",
      " 0   longitude           20640 non-null  float64\n",
      " 1   latitude            20640 non-null  float64\n",
      " 2   housing_median_age  20640 non-null  float64\n",
      " 3   total_rooms         20640 non-null  float64\n",
      " 4   total_bedrooms      20433 non-null  float64\n",
      " 5   population          20640 non-null  float64\n",
      " 6   households          20640 non-null  float64\n",
      " 7   median_income       20640 non-null  float64\n",
      " 8   median_house_value  20640 non-null  float64\n",
      " 9   ocean_proximity     20640 non-null  object \n",
      "dtypes: float64(9), object(1)\n",
      "memory usage: 1.6+ MB\n"
     ]
    }
   ],
   "source": [
    "df.info()"
   ]
  },
  {
   "cell_type": "code",
   "execution_count": 12,
   "metadata": {},
   "outputs": [
    {
     "data": {
      "text/html": [
       "<div>\n",
       "<style scoped>\n",
       "    .dataframe tbody tr th:only-of-type {\n",
       "        vertical-align: middle;\n",
       "    }\n",
       "\n",
       "    .dataframe tbody tr th {\n",
       "        vertical-align: top;\n",
       "    }\n",
       "\n",
       "    .dataframe thead th {\n",
       "        text-align: right;\n",
       "    }\n",
       "</style>\n",
       "<table border=\"1\" class=\"dataframe\">\n",
       "  <thead>\n",
       "    <tr style=\"text-align: right;\">\n",
       "      <th></th>\n",
       "      <th>latitude</th>\n",
       "      <th>longitude</th>\n",
       "      <th>housing_median_age</th>\n",
       "      <th>total_rooms</th>\n",
       "      <th>total_bedrooms</th>\n",
       "      <th>population</th>\n",
       "      <th>households</th>\n",
       "      <th>median_income</th>\n",
       "      <th>median_house_value</th>\n",
       "    </tr>\n",
       "  </thead>\n",
       "  <tbody>\n",
       "    <tr>\n",
       "      <th>count</th>\n",
       "      <td>15687.000000</td>\n",
       "      <td>15687.000000</td>\n",
       "      <td>15687.000000</td>\n",
       "      <td>15687.000000</td>\n",
       "      <td>15530.000000</td>\n",
       "      <td>15687.000000</td>\n",
       "      <td>15687.000000</td>\n",
       "      <td>15687.000000</td>\n",
       "      <td>15687.000000</td>\n",
       "    </tr>\n",
       "    <tr>\n",
       "      <th>mean</th>\n",
       "      <td>35.467307</td>\n",
       "      <td>-119.217442</td>\n",
       "      <td>27.188118</td>\n",
       "      <td>2665.677312</td>\n",
       "      <td>541.244688</td>\n",
       "      <td>1466.317205</td>\n",
       "      <td>500.916491</td>\n",
       "      <td>3.804019</td>\n",
       "      <td>191943.020017</td>\n",
       "    </tr>\n",
       "    <tr>\n",
       "      <th>std</th>\n",
       "      <td>2.066387</td>\n",
       "      <td>1.780380</td>\n",
       "      <td>12.057128</td>\n",
       "      <td>2257.672743</td>\n",
       "      <td>435.650018</td>\n",
       "      <td>1180.389908</td>\n",
       "      <td>392.759399</td>\n",
       "      <td>1.857158</td>\n",
       "      <td>108801.077620</td>\n",
       "    </tr>\n",
       "    <tr>\n",
       "      <th>min</th>\n",
       "      <td>32.610000</td>\n",
       "      <td>-124.140000</td>\n",
       "      <td>1.000000</td>\n",
       "      <td>2.000000</td>\n",
       "      <td>2.000000</td>\n",
       "      <td>3.000000</td>\n",
       "      <td>2.000000</td>\n",
       "      <td>0.499900</td>\n",
       "      <td>14999.000000</td>\n",
       "    </tr>\n",
       "    <tr>\n",
       "      <th>25%</th>\n",
       "      <td>33.940000</td>\n",
       "      <td>-121.070000</td>\n",
       "      <td>17.000000</td>\n",
       "      <td>1441.000000</td>\n",
       "      <td>295.000000</td>\n",
       "      <td>802.000000</td>\n",
       "      <td>278.000000</td>\n",
       "      <td>2.520800</td>\n",
       "      <td>111300.000000</td>\n",
       "    </tr>\n",
       "    <tr>\n",
       "      <th>50%</th>\n",
       "      <td>34.160000</td>\n",
       "      <td>-118.370000</td>\n",
       "      <td>27.000000</td>\n",
       "      <td>2118.000000</td>\n",
       "      <td>432.000000</td>\n",
       "      <td>1195.000000</td>\n",
       "      <td>406.000000</td>\n",
       "      <td>3.468800</td>\n",
       "      <td>166900.000000</td>\n",
       "    </tr>\n",
       "    <tr>\n",
       "      <th>75%</th>\n",
       "      <td>37.340000</td>\n",
       "      <td>-117.990000</td>\n",
       "      <td>36.000000</td>\n",
       "      <td>3172.000000</td>\n",
       "      <td>645.000000</td>\n",
       "      <td>1777.000000</td>\n",
       "      <td>602.000000</td>\n",
       "      <td>4.686200</td>\n",
       "      <td>241100.000000</td>\n",
       "    </tr>\n",
       "    <tr>\n",
       "      <th>max</th>\n",
       "      <td>41.950000</td>\n",
       "      <td>-114.310000</td>\n",
       "      <td>52.000000</td>\n",
       "      <td>39320.000000</td>\n",
       "      <td>6445.000000</td>\n",
       "      <td>35682.000000</td>\n",
       "      <td>6082.000000</td>\n",
       "      <td>15.000100</td>\n",
       "      <td>500001.000000</td>\n",
       "    </tr>\n",
       "  </tbody>\n",
       "</table>\n",
       "</div>"
      ],
      "text/plain": [
       "           latitude     longitude  housing_median_age   total_rooms  \\\n",
       "count  15687.000000  15687.000000        15687.000000  15687.000000   \n",
       "mean      35.467307   -119.217442           27.188118   2665.677312   \n",
       "std        2.066387      1.780380           12.057128   2257.672743   \n",
       "min       32.610000   -124.140000            1.000000      2.000000   \n",
       "25%       33.940000   -121.070000           17.000000   1441.000000   \n",
       "50%       34.160000   -118.370000           27.000000   2118.000000   \n",
       "75%       37.340000   -117.990000           36.000000   3172.000000   \n",
       "max       41.950000   -114.310000           52.000000  39320.000000   \n",
       "\n",
       "       total_bedrooms    population    households  median_income  \\\n",
       "count    15530.000000  15687.000000  15687.000000   15687.000000   \n",
       "mean       541.244688   1466.317205    500.916491       3.804019   \n",
       "std        435.650018   1180.389908    392.759399       1.857158   \n",
       "min          2.000000      3.000000      2.000000       0.499900   \n",
       "25%        295.000000    802.000000    278.000000       2.520800   \n",
       "50%        432.000000   1195.000000    406.000000       3.468800   \n",
       "75%        645.000000   1777.000000    602.000000       4.686200   \n",
       "max       6445.000000  35682.000000   6082.000000      15.000100   \n",
       "\n",
       "       median_house_value  \n",
       "count        15687.000000  \n",
       "mean        191943.020017  \n",
       "std         108801.077620  \n",
       "min          14999.000000  \n",
       "25%         111300.000000  \n",
       "50%         166900.000000  \n",
       "75%         241100.000000  \n",
       "max         500001.000000  "
      ]
     },
     "execution_count": 12,
     "metadata": {},
     "output_type": "execute_result"
    }
   ],
   "source": [
    "df.describe()"
   ]
  },
  {
   "cell_type": "code",
   "execution_count": 6,
   "metadata": {},
   "outputs": [
    {
     "data": {
      "text/plain": [
       "207"
      ]
     },
     "execution_count": 6,
     "metadata": {},
     "output_type": "execute_result"
    }
   ],
   "source": [
    "## total bedrooms has some nulls\n",
    "sum(df.total_bedrooms.isna())"
   ]
  },
  {
   "cell_type": "code",
   "execution_count": 7,
   "metadata": {},
   "outputs": [
    {
     "data": {
      "image/png": "[encoded data removed]",
      "text/plain": [
       "<Figure size 600x400 with 1 Axes>"
      ]
     },
     "metadata": {},
     "output_type": "display_data"
    }
   ],
   "source": [
    "# visualising some col_vals\n",
    "plt.figure(figsize=(6, 4))\n",
    "\n",
    "sns.histplot(df.median_house_value, bins=40, color='blue', alpha=0.6)\n",
    "plt.ylabel('Frequency')\n",
    "plt.xlabel('Price')\n",
    "plt.title('Distribution of prices')\n",
    "\n",
    "plt.show()"
   ]
  },
  {
   "cell_type": "code",
   "execution_count": 8,
   "metadata": {},
   "outputs": [
    {
     "name": "stdout",
     "output_type": "stream",
     "text": [
      "longitude : 844 unique vals\n",
      "latitude : 862 unique vals\n",
      "housing_median_age : 52 unique vals\n",
      "total_rooms : 5926 unique vals\n",
      "total_bedrooms : 1923 unique vals\n",
      "population : 3888 unique vals\n",
      "households : 1815 unique vals\n",
      "median_income : 12928 unique vals\n",
      "median_house_value : 3842 unique vals\n",
      "ocean_proximity : 5 unique vals\n"
     ]
    }
   ],
   "source": [
    "for col in df.columns:\n",
    "    print(f'{col} : {df[col].nunique()} unique vals')"
   ]
  },
  {
   "cell_type": "code",
   "execution_count": 9,
   "metadata": {},
   "outputs": [
    {
     "name": "stdout",
     "output_type": "stream",
     "text": [
      "NEAR BAY : repeated 2289 times\n",
      "<1H OCEAN : repeated 9135 times\n",
      "INLAND : repeated 6550 times\n",
      "NEAR OCEAN : repeated 2657 times\n",
      "ISLAND : repeated 4 times\n"
     ]
    }
   ],
   "source": [
    "for val in df.ocean_proximity.unique():\n",
    "    print(f'{val} : repeated {sum(df[df.ocean_proximity==val].ocean_proximity.duplicated())} times')"
   ]
  },
  {
   "cell_type": "markdown",
   "metadata": {},
   "source": [
    "###"
   ]
  },
  {
   "cell_type": "markdown",
   "metadata": {},
   "source": [
    "### getting only the wanted data"
   ]
  },
  {
   "cell_type": "code",
   "execution_count": 10,
   "metadata": {},
   "outputs": [
    {
     "data": {
      "text/plain": [
       "array(['<1H OCEAN', 'INLAND'], dtype=object)"
      ]
     },
     "execution_count": 10,
     "metadata": {},
     "output_type": "execute_result"
    }
   ],
   "source": [
    "df = df[df.ocean_proximity.isin(['<1H OCEAN' , 'INLAND' ])]\n",
    "df.ocean_proximity.unique()"
   ]
  },
  {
   "cell_type": "code",
   "execution_count": 11,
   "metadata": {},
   "outputs": [
    {
     "data": {
      "text/plain": [
       "Index(['latitude', 'longitude', 'housing_median_age', 'total_rooms',\n",
       "       'total_bedrooms', 'population', 'households', 'median_income',\n",
       "       'median_house_value'],\n",
       "      dtype='object')"
      ]
     },
     "execution_count": 11,
     "metadata": {},
     "output_type": "execute_result"
    }
   ],
   "source": [
    "wanted_cols = ['latitude',\n",
    "'longitude',\n",
    "'housing_median_age',\n",
    "'total_rooms',\n",
    "'total_bedrooms',\n",
    "'population',\n",
    "'households',\n",
    "'median_income',\n",
    "'median_house_value']\n",
    "df = df[wanted_cols]\n",
    "df.columns"
   ]
  },
  {
   "cell_type": "markdown",
   "metadata": {},
   "source": [
    "### deviding data"
   ]
  },
  {
   "cell_type": "code",
   "execution_count": 69,
   "metadata": {},
   "outputs": [],
   "source": [
    "def deviding_data(df, seed=42):\n",
    "    np.random.seed(seed)\n",
    "\n",
    "    n = len(df)\n",
    "\n",
    "    n_val = int(0.2 * n)\n",
    "    n_test = int(0.2 * n)\n",
    "    n_train = n - (n_val + n_test)\n",
    "\n",
    "    idx = np.arange(n)\n",
    "    np.random.shuffle(idx)\n",
    "\n",
    "    df_shuffled = df.iloc[idx]\n",
    "\n",
    "    df_train = df_shuffled.iloc[:n_train].copy()\n",
    "    df_val = df_shuffled.iloc[n_train:n_train+n_val].copy()\n",
    "    df_test = df_shuffled.iloc[n_train+n_val:].copy()\n",
    "    return df_train, df_val, df_test"
   ]
  },
  {
   "cell_type": "code",
   "execution_count": 70,
   "metadata": {},
   "outputs": [],
   "source": [
    "def extract_y(df_train, df_val, df_test):\n",
    "    y_train_orig = df_train.median_house_value.values\n",
    "    y_val_orig = df_val.median_house_value.values\n",
    "    y_test_orig = df_test.median_house_value.values\n",
    "\n",
    "    y_train = np.log1p(df_train.median_house_value.values)\n",
    "    y_val = np.log1p(df_val.median_house_value.values)\n",
    "    y_test = np.log1p(df_test.median_house_value.values)\n",
    "\n",
    "    del df_train['median_house_value']\n",
    "    del df_val['median_house_value']\n",
    "    del df_test['median_house_value']\n",
    "    return y_train, y_val, y_test, df_train, df_val, df_test"
   ]
  },
  {
   "cell_type": "markdown",
   "metadata": {},
   "source": [
    "### filling the null data 0 and mean"
   ]
  },
  {
   "cell_type": "code",
   "execution_count": 71,
   "metadata": {},
   "outputs": [],
   "source": [
    "def prepare_x(df_train, fill='z'):\n",
    "    df = df_train.copy()\n",
    "    if fill=='z':\n",
    "\n",
    "        df.total_bedrooms = df.total_bedrooms.fillna(0)\n",
    "\n",
    "\n",
    "    elif fill=='mean':\n",
    "        df.total_bedrooms = df.total_bedrooms.fillna(df.total_bedrooms.mean())\n",
    "    return df"
   ]
  },
  {
   "cell_type": "markdown",
   "metadata": {},
   "source": [
    "### linear reg"
   ]
  },
  {
   "cell_type": "code",
   "execution_count": 117,
   "metadata": {},
   "outputs": [],
   "source": [
    "def train_linear_regression(X, y):\n",
    "    ones = np.ones(X.shape[0])\n",
    "    X = np.column_stack([ones, X])\n",
    "\n",
    "    XTX = X.T.dot(X)\n",
    "    XTX_inv = np.linalg.inv(XTX)\n",
    "    w = XTX_inv.dot(X.T).dot(y)\n",
    "    \n",
    "    return w[0], w[1:]"
   ]
  },
  {
   "cell_type": "code",
   "execution_count": 73,
   "metadata": {},
   "outputs": [],
   "source": [
    "def rmse(y, y_pred):\n",
    "    error = y_pred - y\n",
    "    mse = (error ** 2).mean()\n",
    "    return np.sqrt(mse)"
   ]
  },
  {
   "cell_type": "code",
   "execution_count": 143,
   "metadata": {},
   "outputs": [],
   "source": [
    "def train_linear_regression_reg(X, y, r=0.0):\n",
    "    ones = np.ones(X.shape[0])\n",
    "    X = np.column_stack([ones, X])\n",
    "\n",
    "    XTX = X.T.dot(X)\n",
    "    reg = r * np.eye(XTX.shape[0])\n",
    "    XTX = XTX + reg\n",
    "\n",
    "    XTX_inv = np.linalg.inv(XTX)\n",
    "    w = XTX_inv.dot(X.T).dot(y)\n",
    "    return w[0], w[1:]"
   ]
  },
  {
   "cell_type": "markdown",
   "metadata": {},
   "source": [
    "### full predict"
   ]
  },
  {
   "cell_type": "code",
   "execution_count": 82,
   "metadata": {},
   "outputs": [],
   "source": [
    "def predict(df, seed=2, r=0, fill='z'):\n",
    "    df_train, df_val, df_test = deviding_data(df,seed=seed)\n",
    "    y_train, y_val, y_test, df_train, df_val, df_test = extract_y(df_train, df_val, df_test)\n",
    "    x_train = prepare_x(df_train, fill=fill)\n",
    "    x_val = prepare_x(df_val)\n",
    "    x_test = prepare_x(df_test)\n",
    "    w_0, w = train_linear_regression_reg(x_train, y_train, r=r)\n",
    "    y_pred = w_0 + x_train.dot(w)\n",
    "    train_score = rmse(y_train, y_pred)\n",
    "    print(f'train:{train_score}')\n",
    "    y_pred = w_0 + x_val.dot(w)\n",
    "    val_score = rmse(y_val, y_pred)\n",
    "    print(f'val:{val_score}')\n",
    "    y_pred = w_0 + x_test.dot(w)\n",
    "    test_score = rmse(y_test, y_pred)\n",
    "    print(f'test:{test_score}')\n",
    "    return train_score, val_score, test_score\n",
    "    "
   ]
  },
  {
   "cell_type": "code",
   "execution_count": 76,
   "metadata": {},
   "outputs": [
    {
     "name": "stdout",
     "output_type": "stream",
     "text": [
      "train:0.34027582719352\n",
      "val:0.3384287006763761\n",
      "test:0.33328548754673826\n"
     ]
    },
    {
     "data": {
      "text/plain": [
       "(-9.911560200953081,\n",
       " array([-2.69914047e-01, -2.57559087e-01,  1.92264005e-03, -3.40679630e-05,\n",
       "         3.03040321e-04, -1.49763515e-04,  3.88143978e-04,  1.82156954e-01]))"
      ]
     },
     "execution_count": 76,
     "metadata": {},
     "output_type": "execute_result"
    }
   ],
   "source": [
    "# with 0 fillna\n",
    "predict(df)"
   ]
  },
  {
   "cell_type": "code",
   "execution_count": 77,
   "metadata": {},
   "outputs": [
    {
     "name": "stdout",
     "output_type": "stream",
     "text": [
      "train:0.3400374055516097\n",
      "val:0.33862777279127415\n",
      "test:0.3335993500982332\n"
     ]
    },
    {
     "data": {
      "text/plain": [
       "(-10.012979159904194,\n",
       " array([-2.70193111e-01, -2.58418606e-01,  1.93373169e-03, -3.99580321e-05,\n",
       "         3.91576652e-04, -1.47240948e-04,  3.16972514e-04,  1.83885452e-01]))"
      ]
     },
     "execution_count": 77,
     "metadata": {},
     "output_type": "execute_result"
    }
   ],
   "source": [
    "# with mean fillna\n",
    "predict(df, fill='mean')"
   ]
  },
  {
   "cell_type": "code",
   "execution_count": 87,
   "metadata": {},
   "outputs": [
    {
     "name": "stdout",
     "output_type": "stream",
     "text": [
      "train:0.34027582719352\n",
      "val:0.3384287006763761\n",
      "test:0.33328548754673826\n",
      "r:\t0\n",
      "train:0.34027582719355287\n",
      "val:0.3384287040851703\n",
      "test:0.33328548409842856\n",
      "r:\t1e-06\n",
      "train:0.3402758275212963\n",
      "val:0.3384290419040407\n",
      "test:0.33328514321957287\n",
      "r:\t0.0001\n",
      "train:0.340275859845463\n",
      "val:0.3384321368626356\n",
      "test:0.33328208316355984\n",
      "r:\t0.001\n",
      "train:0.3402789705825776\n",
      "val:0.3384653418935614\n",
      "test:0.33325518681714983\n",
      "r:\t0.01\n",
      "train:0.3404983770811622\n",
      "val:0.3389401586637704\n",
      "test:0.3332461455651414\n",
      "r:\t0.1\n",
      "train:0.34359274995903105\n",
      "val:0.34294277439273824\n",
      "test:0.33584029899221135\n",
      "r:\t1\n",
      "train:0.3462299107955214\n",
      "val:0.34603216867815406\n",
      "test:0.3383709714270355\n",
      "r:\t5\n",
      "train:0.34676917107477884\n",
      "val:0.34665239692546707\n",
      "test:0.3388968545796793\n",
      "r:\t10\n"
     ]
    }
   ],
   "source": [
    "for r in [0, 0.000001, 0.0001, 0.001, 0.01, 0.1, 1, 5, 10]:\n",
    "    predict(df, r=r)\n",
    "    print(f'r:\\t{r}')"
   ]
  },
  {
   "cell_type": "code",
   "execution_count": 123,
   "metadata": {},
   "outputs": [
    {
     "name": "stdout",
     "output_type": "stream",
     "text": [
      "train:0.33299609018307735\n",
      "val:0.337738716003986\n",
      "test:0.35515595188487964\n",
      "seed:\t0\n",
      "train:0.3353252773564012\n",
      "val:0.3377999353662076\n",
      "test:0.3520039292656217\n",
      "seed:\t1\n",
      "train:0.34027582719352\n",
      "val:0.3384287006763761\n",
      "test:0.33328548754673826\n",
      "seed:\t2\n",
      "train:0.3411330955203481\n",
      "val:0.33200494683088133\n",
      "test:0.3368445253030628\n",
      "seed:\t3\n",
      "train:0.3347703205215588\n",
      "val:0.3394451862555541\n",
      "test:0.34929914715580074\n",
      "seed:\t4\n",
      "train:0.3382695058617524\n",
      "val:0.3433819705294903\n",
      "test:0.334294698078325\n",
      "seed:\t5\n",
      "train:0.33734727931702696\n",
      "val:0.33853302117668127\n",
      "test:0.343147334659475\n",
      "seed:\t6\n",
      "train:0.33429960121706737\n",
      "val:0.3468747697306719\n",
      "test:0.3427885826654088\n",
      "seed:\t7\n",
      "train:0.3345971000834781\n",
      "val:0.3512736865960523\n",
      "test:0.3375231476532197\n",
      "seed:\t8\n",
      "train:0.3410686752346688\n",
      "val:0.3341558266519897\n",
      "test:0.3348843533702743\n",
      "seed:\t9\n"
     ]
    }
   ],
   "source": [
    "val_scores = []\n",
    "for seed in [0, 1, 2, 3, 4, 5, 6, 7, 8, 9]:\n",
    "    train_score, val_score, test_score = predict(df, seed=seed)\n",
    "    val_scores.append(val_score)\n",
    "    print(f'seed:\\t{seed}')\n"
   ]
  },
  {
   "cell_type": "code",
   "execution_count": 89,
   "metadata": {},
   "outputs": [
    {
     "data": {
      "text/plain": [
       "0.005"
      ]
     },
     "execution_count": 89,
     "metadata": {},
     "output_type": "execute_result"
    }
   ],
   "source": [
    "round(np.array(val_scores).std(), 3)"
   ]
  },
  {
   "cell_type": "code",
   "execution_count": 126,
   "metadata": {},
   "outputs": [],
   "source": [
    "def deviding_data_final(df, seed=42):\n",
    "    np.random.seed(seed)\n",
    "\n",
    "    n = len(df)\n",
    "\n",
    "    n_test = int(0.2 * n)\n",
    "    n_train = n - (n_test)\n",
    "\n",
    "    idx = np.arange(n)\n",
    "    np.random.shuffle(idx)\n",
    "\n",
    "    df_shuffled = df.iloc[idx]\n",
    "\n",
    "    df_train = df_shuffled.iloc[:n_train].copy()\n",
    "    df_test = df_shuffled.iloc[n_train:].copy()\n",
    "    return df_train, df_test"
   ]
  },
  {
   "cell_type": "code",
   "execution_count": 127,
   "metadata": {},
   "outputs": [],
   "source": [
    "def extract_y_final(df_train, df_test):\n",
    "    y_train_orig = df_train.median_house_value.values\n",
    "    y_test_orig = df_test.median_house_value.values\n",
    "\n",
    "    y_train = np.log1p(df_train.median_house_value.values)\n",
    "    y_test = np.log1p(df_test.median_house_value.values)\n",
    "\n",
    "    del df_train['median_house_value']\n",
    "    del df_test['median_house_value']\n",
    "    return y_train, y_test, df_train, df_test"
   ]
  },
  {
   "cell_type": "code",
   "execution_count": 144,
   "metadata": {},
   "outputs": [
    {
     "name": "stdout",
     "output_type": "stream",
     "text": [
      "train:0.3393175675909597\n",
      "test:0.3349899336610469\n"
     ]
    }
   ],
   "source": [
    "df_train, df_test = deviding_data_final(df,seed=9)\n",
    "y_train, y_test, df_train, df_test  = extract_y_final(df_train, df_test)\n",
    "x_train = prepare_x(df_train, fill='z')\n",
    "x_test = prepare_x(df_test)\n",
    "w_0, w = train_linear_regression_reg(x_train, y_train, r=0.001)\n",
    "y_pred = w_0 + x_train.dot(w)\n",
    "train_score = rmse(y_train, y_pred)\n",
    "print(f'train:{train_score}')\n",
    "y_pred = w_0 + x_test.dot(w)\n",
    "test_score = rmse(y_test, y_pred)\n",
    "print(f'test:{test_score}')\n"
   ]
  },
  {
   "cell_type": "code",
   "execution_count": 122,
   "metadata": {},
   "outputs": [
    {
     "data": {
      "text/html": [
       "<div>\n",
       "<style scoped>\n",
       "    .dataframe tbody tr th:only-of-type {\n",
       "        vertical-align: middle;\n",
       "    }\n",
       "\n",
       "    .dataframe tbody tr th {\n",
       "        vertical-align: top;\n",
       "    }\n",
       "\n",
       "    .dataframe thead th {\n",
       "        text-align: right;\n",
       "    }\n",
       "</style>\n",
       "<table border=\"1\" class=\"dataframe\">\n",
       "  <thead>\n",
       "    <tr style=\"text-align: right;\">\n",
       "      <th></th>\n",
       "      <th>latitude</th>\n",
       "      <th>longitude</th>\n",
       "      <th>housing_median_age</th>\n",
       "      <th>total_rooms</th>\n",
       "      <th>total_bedrooms</th>\n",
       "      <th>population</th>\n",
       "      <th>households</th>\n",
       "      <th>median_income</th>\n",
       "    </tr>\n",
       "  </thead>\n",
       "  <tbody>\n",
       "    <tr>\n",
       "      <th>14737</th>\n",
       "      <td>32.82</td>\n",
       "      <td>-117.05</td>\n",
       "      <td>16.0</td>\n",
       "      <td>4046.0</td>\n",
       "      <td>731.0</td>\n",
       "      <td>1684.0</td>\n",
       "      <td>701.0</td>\n",
       "      <td>4.2312</td>\n",
       "    </tr>\n",
       "    <tr>\n",
       "      <th>7094</th>\n",
       "      <td>33.91</td>\n",
       "      <td>-118.00</td>\n",
       "      <td>19.0</td>\n",
       "      <td>5166.0</td>\n",
       "      <td>770.0</td>\n",
       "      <td>2374.0</td>\n",
       "      <td>753.0</td>\n",
       "      <td>5.9790</td>\n",
       "    </tr>\n",
       "    <tr>\n",
       "      <th>18022</th>\n",
       "      <td>37.25</td>\n",
       "      <td>-121.96</td>\n",
       "      <td>35.0</td>\n",
       "      <td>1018.0</td>\n",
       "      <td>169.0</td>\n",
       "      <td>484.0</td>\n",
       "      <td>174.0</td>\n",
       "      <td>6.1648</td>\n",
       "    </tr>\n",
       "    <tr>\n",
       "      <th>17597</th>\n",
       "      <td>37.30</td>\n",
       "      <td>-121.89</td>\n",
       "      <td>47.0</td>\n",
       "      <td>1604.0</td>\n",
       "      <td>284.0</td>\n",
       "      <td>639.0</td>\n",
       "      <td>278.0</td>\n",
       "      <td>5.8415</td>\n",
       "    </tr>\n",
       "    <tr>\n",
       "      <th>7704</th>\n",
       "      <td>33.96</td>\n",
       "      <td>-118.14</td>\n",
       "      <td>34.0</td>\n",
       "      <td>2744.0</td>\n",
       "      <td>541.0</td>\n",
       "      <td>1333.0</td>\n",
       "      <td>503.0</td>\n",
       "      <td>4.0536</td>\n",
       "    </tr>\n",
       "    <tr>\n",
       "      <th>...</th>\n",
       "      <td>...</td>\n",
       "      <td>...</td>\n",
       "      <td>...</td>\n",
       "      <td>...</td>\n",
       "      <td>...</td>\n",
       "      <td>...</td>\n",
       "      <td>...</td>\n",
       "      <td>...</td>\n",
       "    </tr>\n",
       "    <tr>\n",
       "      <th>11806</th>\n",
       "      <td>38.92</td>\n",
       "      <td>-121.14</td>\n",
       "      <td>16.0</td>\n",
       "      <td>2069.0</td>\n",
       "      <td>312.0</td>\n",
       "      <td>889.0</td>\n",
       "      <td>299.0</td>\n",
       "      <td>4.6771</td>\n",
       "    </tr>\n",
       "    <tr>\n",
       "      <th>7497</th>\n",
       "      <td>33.93</td>\n",
       "      <td>-118.25</td>\n",
       "      <td>42.0</td>\n",
       "      <td>763.0</td>\n",
       "      <td>191.0</td>\n",
       "      <td>754.0</td>\n",
       "      <td>174.0</td>\n",
       "      <td>2.0486</td>\n",
       "    </tr>\n",
       "    <tr>\n",
       "      <th>15103</th>\n",
       "      <td>32.85</td>\n",
       "      <td>-116.99</td>\n",
       "      <td>32.0</td>\n",
       "      <td>5211.0</td>\n",
       "      <td>949.0</td>\n",
       "      <td>3025.0</td>\n",
       "      <td>948.0</td>\n",
       "      <td>4.0931</td>\n",
       "    </tr>\n",
       "    <tr>\n",
       "      <th>19216</th>\n",
       "      <td>38.48</td>\n",
       "      <td>-122.68</td>\n",
       "      <td>15.0</td>\n",
       "      <td>1575.0</td>\n",
       "      <td>262.0</td>\n",
       "      <td>716.0</td>\n",
       "      <td>259.0</td>\n",
       "      <td>5.3409</td>\n",
       "    </tr>\n",
       "    <tr>\n",
       "      <th>17992</th>\n",
       "      <td>37.29</td>\n",
       "      <td>-121.95</td>\n",
       "      <td>30.0</td>\n",
       "      <td>3734.0</td>\n",
       "      <td>813.0</td>\n",
       "      <td>1834.0</td>\n",
       "      <td>824.0</td>\n",
       "      <td>3.4505</td>\n",
       "    </tr>\n",
       "  </tbody>\n",
       "</table>\n",
       "<p>12550 rows × 8 columns</p>\n",
       "</div>"
      ],
      "text/plain": [
       "       latitude  longitude  housing_median_age  total_rooms  total_bedrooms  \\\n",
       "14737     32.82    -117.05                16.0       4046.0           731.0   \n",
       "7094      33.91    -118.00                19.0       5166.0           770.0   \n",
       "18022     37.25    -121.96                35.0       1018.0           169.0   \n",
       "17597     37.30    -121.89                47.0       1604.0           284.0   \n",
       "7704      33.96    -118.14                34.0       2744.0           541.0   \n",
       "...         ...        ...                 ...          ...             ...   \n",
       "11806     38.92    -121.14                16.0       2069.0           312.0   \n",
       "7497      33.93    -118.25                42.0        763.0           191.0   \n",
       "15103     32.85    -116.99                32.0       5211.0           949.0   \n",
       "19216     38.48    -122.68                15.0       1575.0           262.0   \n",
       "17992     37.29    -121.95                30.0       3734.0           813.0   \n",
       "\n",
       "       population  households  median_income  \n",
       "14737      1684.0       701.0         4.2312  \n",
       "7094       2374.0       753.0         5.9790  \n",
       "18022       484.0       174.0         6.1648  \n",
       "17597       639.0       278.0         5.8415  \n",
       "7704       1333.0       503.0         4.0536  \n",
       "...           ...         ...            ...  \n",
       "11806       889.0       299.0         4.6771  \n",
       "7497        754.0       174.0         2.0486  \n",
       "15103      3025.0       948.0         4.0931  \n",
       "19216       716.0       259.0         5.3409  \n",
       "17992      1834.0       824.0         3.4505  \n",
       "\n",
       "[12550 rows x 8 columns]"
      ]
     },
     "execution_count": 122,
     "metadata": {},
     "output_type": "execute_result"
    }
   ],
   "source": [
    "x_train"
   ]
  },
  {
   "cell_type": "code",
   "execution_count": 25,
   "metadata": {},
   "outputs": [
    {
     "data": {
      "text/plain": [
       "0.34"
      ]
     },
     "execution_count": 25,
     "metadata": {},
     "output_type": "execute_result"
    }
   ],
   "source": [
    "# with 0 fillna\n",
    "# w_0, w = train_linear_regression(df_train0, y_train)\n",
    "# y_pred = w_0 + df_train0.dot(w)\n",
    "# round(rmse(y_train, y_pred),2)"
   ]
  },
  {
   "cell_type": "code",
   "execution_count": 28,
   "metadata": {},
   "outputs": [
    {
     "data": {
      "text/plain": [
       "0.34"
      ]
     },
     "execution_count": 28,
     "metadata": {},
     "output_type": "execute_result"
    }
   ],
   "source": [
    "# # with mean fillna\n",
    "# w_0, w = train_linear_regression(df_train_m, y_train)\n",
    "# y_pred = w_0 + df_train_m.dot(w)\n",
    "# round(rmse(y_train, y_pred),2)"
   ]
  },
  {
   "cell_type": "markdown",
   "metadata": {},
   "source": [
    "### with regulations"
   ]
  },
  {
   "cell_type": "code",
   "execution_count": 43,
   "metadata": {},
   "outputs": [
    {
     "name": "stdout",
     "output_type": "stream",
     "text": [
      "0:\t0.34\n",
      "1e-06:\t0.34\n",
      "0.0001:\t0.34\n",
      "0.001:\t0.34\n",
      "0.01:\t0.34\n",
      "0.1:\t0.34\n",
      "1:\t0.34\n",
      "5:\t0.35\n",
      "10:\t0.35\n"
     ]
    }
   ],
   "source": [
    "# for r in [0, 0.000001, 0.0001, 0.001, 0.01, 0.1, 1, 5, 10]:\n",
    "#     w_0, w = train_linear_regression_reg(df_train0, y_train, r=r)\n",
    "#     y_pred = w_0 + df_train0.dot(w)\n",
    "#     print(f'{r}:\\t{round(rmse(y_train, y_pred),2)}')"
   ]
  }
 ],
 "metadata": {
  "kernelspec": {
   "display_name": "Python 3",
   "language": "python",
   "name": "python3"
  },
  "language_info": {
   "codemirror_mode": {
    "name": "ipython",
    "version": 3
   },
   "file_extension": ".py",
   "mimetype": "text/x-python",
   "name": "python",
   "nbconvert_exporter": "python",
   "pygments_lexer": "ipython3",
   "version": "3.11.4"
  },
  "orig_nbformat": 4
 },
 "nbformat": 4,
 "nbformat_minor": 2
}
